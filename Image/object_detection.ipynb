{
  "nbformat": 4,
  "nbformat_minor": 0,
  "metadata": {
    "colab": {
      "name": "object_detection.ipynb",
      "provenance": [],
      "machine_shape": "hm",
      "collapsed_sections": [],
      "toc_visible": true
    },
    "kernelspec": {
      "name": "python3",
      "display_name": "Python 3"
    },
    "language_info": {
      "name": "python"
    },
    "accelerator": "GPU"
  },
  "cells": [
    {
      "cell_type": "code",
      "source": [
        "import os\n",
        "import pandas as pd\n",
        "import numpy as np\n",
        "import re\n",
        "from collections import Counter\n",
        "from sklearn.model_selection import train_test_split\n",
        "from sklearn.preprocessing import StandardScaler\n",
        "from sklearn.ensemble import RandomForestClassifier\n",
        "from sklearn.metrics import confusion_matrix\n",
        "from sklearn.utils import resample\n",
        "from sklearn.model_selection import train_test_split\n",
        "from sklearn import datasets  # to retrieve the iris Dataset\n",
        "import pandas as pd  # to load the dataframe\n",
        "from sklearn.decomposition import PCA  # to apply PCA\n",
        "import seaborn as sns  # to plot the heat maps\n",
        "import matplotlib.pyplot as plt\n",
        "from sklearn.manifold import TSNE\n",
        "import math\n",
        "import numpy as np\n",
        "import pandas as pd\n",
        "import tensorflow as tf\n",
        "from tensorflow import keras\n",
        "from tensorflow.keras import layers\n",
        "import csv\n",
        "from tensorflow.keras.utils import plot_model\n",
        "import torch\n",
        "import torch.nn as nn\n",
        "from torch.autograd import Variable\n",
        "import torch.optim as optim\n",
        "import torchtext\n",
        "import torch\n",
        "from torch.nn import Linear\n",
        "import itertools\n",
        "import networkx as nx\n",
        "import string\n",
        "import nltk\n",
        "import spacy\n",
        "import random\n",
        "from tqdm import tqdm"
      ],
      "metadata": {
        "id": "aMpFOsAwZyVa"
      },
      "execution_count": 25,
      "outputs": []
    },
    {
      "cell_type": "code",
      "source": [
        "from google.colab import drive\n",
        "drive.mount('/content/drive')"
      ],
      "metadata": {
        "colab": {
          "base_uri": "https://localhost:8080/"
        },
        "id": "TtBcPq5NYz8v",
        "outputId": "086e22c4-a64a-4b90-bb6b-3faf45efa6e3"
      },
      "execution_count": 3,
      "outputs": [
        {
          "output_type": "stream",
          "name": "stdout",
          "text": [
            "Mounted at /content/drive\n"
          ]
        }
      ]
    },
    {
      "cell_type": "code",
      "source": [
        "%cd /content/drive/My Drive/detected_output/"
      ],
      "metadata": {
        "colab": {
          "base_uri": "https://localhost:8080/"
        },
        "id": "12aLshSkYz_f",
        "outputId": "617e2365-8b28-4ef0-975a-fb521b1db19a"
      },
      "execution_count": 6,
      "outputs": [
        {
          "output_type": "stream",
          "name": "stdout",
          "text": [
            "/content/drive/.shortcut-targets-by-id/1omDOLWYXWlYFk8IC1R1lYRoGswRXHfZg/detected_output\n"
          ]
        }
      ]
    },
    {
      "cell_type": "code",
      "source": [
        "# The direction which includes the output tables for each image.\n",
        "file_names = os.listdir()"
      ],
      "metadata": {
        "id": "VX6ZeU7cY0C-"
      },
      "execution_count": 7,
      "outputs": []
    },
    {
      "cell_type": "code",
      "source": [
        "count = 0\n",
        "for i in file_names:\n",
        "  if i[-3:] == 'csv':\n",
        "    # print(i)\n",
        "    count+=1\n",
        "print(count)"
      ],
      "metadata": {
        "id": "rE8dqve_Y0Fw",
        "colab": {
          "base_uri": "https://localhost:8080/"
        },
        "outputId": "e3627b12-72c8-4307-92f8-592006d11d5a"
      },
      "execution_count": 8,
      "outputs": [
        {
          "output_type": "stream",
          "name": "stdout",
          "text": [
            "798\n"
          ]
        }
      ]
    },
    {
      "cell_type": "code",
      "source": [
        "# Calculate num_of_houses, sum_of_shape_area, sum_of_shape_length of each image.\n",
        "dic = {'tract_id':[], 'house_num':[], 'shape_area':[], 'shape_length':[], 'shape_area_c':[], 'shape_length_c':[], 'target': []}\n",
        "for file in file_names:\n",
        "  if file[-3:] == 'csv':\n",
        "    df = pd.read_csv(file) \n",
        "    dic['tract_id'].append(re.findall(r\"\\d+\", file)[0])\n",
        "    dic['house_num'].append(df.OID_.max())\n",
        "    dic['shape_area'].append(df.Shape_Area.sum())\n",
        "    dic['shape_length'].append(df.Shape_Length.sum())\n",
        "    dic['shape_area_c'].append(sum(df.Shape_Area*df.Confidence/100))\n",
        "    dic['shape_length_c'].append(sum(df.Shape_Length*df.Confidence/100))\n",
        "    if file[:3] == 'poo':\n",
        "      dic['target'].append(0)  \n",
        "    elif file[:3] == 'gen':\n",
        "      dic['target'].append(1)  \n",
        "    elif file[:3] == 'adv':\n",
        "      dic['target'].append(2)"
      ],
      "metadata": {
        "id": "rMyyuoqSgqW5"
      },
      "execution_count": 9,
      "outputs": []
    },
    {
      "cell_type": "code",
      "source": [
        "df = pd.DataFrame(dic)\n",
        "df"
      ],
      "metadata": {
        "colab": {
          "base_uri": "https://localhost:8080/",
          "height": 424
        },
        "id": "pLEEQxgdgqT5",
        "outputId": "52be358d-eeb7-4ff4-c2b5-5b3f8b3fef85"
      },
      "execution_count": 10,
      "outputs": [
        {
          "output_type": "execute_result",
          "data": {
            "text/plain": [
              "    tract_id  house_num    shape_area   shape_length  shape_area_c  \\\n",
              "0     832400      779.0  2.228243e+06  154689.910422  2.040189e+06   \n",
              "1     832500      177.0  1.712526e+06   65381.669831  1.571339e+06   \n",
              "2     832600      192.0  1.542560e+06   62029.187004  1.418126e+06   \n",
              "3     832900      116.0  9.165843e+05   39755.607375  8.440270e+05   \n",
              "4     833000      106.0  3.059690e+06   72289.006236  2.786114e+06   \n",
              "..       ...        ...           ...            ...           ...   \n",
              "793   831900      447.0  1.317559e+06  101141.433622  1.194704e+06   \n",
              "794   832000      213.0  1.536429e+06   70739.019693  1.391498e+06   \n",
              "795   832100      218.0  1.805965e+06   77444.712979  1.621782e+06   \n",
              "796   832200      405.0  1.110235e+06   86114.732169  1.009572e+06   \n",
              "797   832300      173.0  1.519129e+06   54932.836685  1.417820e+06   \n",
              "\n",
              "     shape_length_c  target  \n",
              "0     141230.226156       2  \n",
              "1      59466.536988       2  \n",
              "2      56437.295050       2  \n",
              "3      36175.309647       2  \n",
              "4      65925.252918       2  \n",
              "..              ...     ...  \n",
              "793    91186.471272       2  \n",
              "794    63580.085051       2  \n",
              "795    69571.020570       2  \n",
              "796    77541.209972       2  \n",
              "797    50217.318556       2  \n",
              "\n",
              "[798 rows x 7 columns]"
            ],
            "text/html": [
              "\n",
              "  <div id=\"df-e0c716bb-ec12-4493-8f33-48e817437583\">\n",
              "    <div class=\"colab-df-container\">\n",
              "      <div>\n",
              "<style scoped>\n",
              "    .dataframe tbody tr th:only-of-type {\n",
              "        vertical-align: middle;\n",
              "    }\n",
              "\n",
              "    .dataframe tbody tr th {\n",
              "        vertical-align: top;\n",
              "    }\n",
              "\n",
              "    .dataframe thead th {\n",
              "        text-align: right;\n",
              "    }\n",
              "</style>\n",
              "<table border=\"1\" class=\"dataframe\">\n",
              "  <thead>\n",
              "    <tr style=\"text-align: right;\">\n",
              "      <th></th>\n",
              "      <th>tract_id</th>\n",
              "      <th>house_num</th>\n",
              "      <th>shape_area</th>\n",
              "      <th>shape_length</th>\n",
              "      <th>shape_area_c</th>\n",
              "      <th>shape_length_c</th>\n",
              "      <th>target</th>\n",
              "    </tr>\n",
              "  </thead>\n",
              "  <tbody>\n",
              "    <tr>\n",
              "      <th>0</th>\n",
              "      <td>832400</td>\n",
              "      <td>779.0</td>\n",
              "      <td>2.228243e+06</td>\n",
              "      <td>154689.910422</td>\n",
              "      <td>2.040189e+06</td>\n",
              "      <td>141230.226156</td>\n",
              "      <td>2</td>\n",
              "    </tr>\n",
              "    <tr>\n",
              "      <th>1</th>\n",
              "      <td>832500</td>\n",
              "      <td>177.0</td>\n",
              "      <td>1.712526e+06</td>\n",
              "      <td>65381.669831</td>\n",
              "      <td>1.571339e+06</td>\n",
              "      <td>59466.536988</td>\n",
              "      <td>2</td>\n",
              "    </tr>\n",
              "    <tr>\n",
              "      <th>2</th>\n",
              "      <td>832600</td>\n",
              "      <td>192.0</td>\n",
              "      <td>1.542560e+06</td>\n",
              "      <td>62029.187004</td>\n",
              "      <td>1.418126e+06</td>\n",
              "      <td>56437.295050</td>\n",
              "      <td>2</td>\n",
              "    </tr>\n",
              "    <tr>\n",
              "      <th>3</th>\n",
              "      <td>832900</td>\n",
              "      <td>116.0</td>\n",
              "      <td>9.165843e+05</td>\n",
              "      <td>39755.607375</td>\n",
              "      <td>8.440270e+05</td>\n",
              "      <td>36175.309647</td>\n",
              "      <td>2</td>\n",
              "    </tr>\n",
              "    <tr>\n",
              "      <th>4</th>\n",
              "      <td>833000</td>\n",
              "      <td>106.0</td>\n",
              "      <td>3.059690e+06</td>\n",
              "      <td>72289.006236</td>\n",
              "      <td>2.786114e+06</td>\n",
              "      <td>65925.252918</td>\n",
              "      <td>2</td>\n",
              "    </tr>\n",
              "    <tr>\n",
              "      <th>...</th>\n",
              "      <td>...</td>\n",
              "      <td>...</td>\n",
              "      <td>...</td>\n",
              "      <td>...</td>\n",
              "      <td>...</td>\n",
              "      <td>...</td>\n",
              "      <td>...</td>\n",
              "    </tr>\n",
              "    <tr>\n",
              "      <th>793</th>\n",
              "      <td>831900</td>\n",
              "      <td>447.0</td>\n",
              "      <td>1.317559e+06</td>\n",
              "      <td>101141.433622</td>\n",
              "      <td>1.194704e+06</td>\n",
              "      <td>91186.471272</td>\n",
              "      <td>2</td>\n",
              "    </tr>\n",
              "    <tr>\n",
              "      <th>794</th>\n",
              "      <td>832000</td>\n",
              "      <td>213.0</td>\n",
              "      <td>1.536429e+06</td>\n",
              "      <td>70739.019693</td>\n",
              "      <td>1.391498e+06</td>\n",
              "      <td>63580.085051</td>\n",
              "      <td>2</td>\n",
              "    </tr>\n",
              "    <tr>\n",
              "      <th>795</th>\n",
              "      <td>832100</td>\n",
              "      <td>218.0</td>\n",
              "      <td>1.805965e+06</td>\n",
              "      <td>77444.712979</td>\n",
              "      <td>1.621782e+06</td>\n",
              "      <td>69571.020570</td>\n",
              "      <td>2</td>\n",
              "    </tr>\n",
              "    <tr>\n",
              "      <th>796</th>\n",
              "      <td>832200</td>\n",
              "      <td>405.0</td>\n",
              "      <td>1.110235e+06</td>\n",
              "      <td>86114.732169</td>\n",
              "      <td>1.009572e+06</td>\n",
              "      <td>77541.209972</td>\n",
              "      <td>2</td>\n",
              "    </tr>\n",
              "    <tr>\n",
              "      <th>797</th>\n",
              "      <td>832300</td>\n",
              "      <td>173.0</td>\n",
              "      <td>1.519129e+06</td>\n",
              "      <td>54932.836685</td>\n",
              "      <td>1.417820e+06</td>\n",
              "      <td>50217.318556</td>\n",
              "      <td>2</td>\n",
              "    </tr>\n",
              "  </tbody>\n",
              "</table>\n",
              "<p>798 rows × 7 columns</p>\n",
              "</div>\n",
              "      <button class=\"colab-df-convert\" onclick=\"convertToInteractive('df-e0c716bb-ec12-4493-8f33-48e817437583')\"\n",
              "              title=\"Convert this dataframe to an interactive table.\"\n",
              "              style=\"display:none;\">\n",
              "        \n",
              "  <svg xmlns=\"http://www.w3.org/2000/svg\" height=\"24px\"viewBox=\"0 0 24 24\"\n",
              "       width=\"24px\">\n",
              "    <path d=\"M0 0h24v24H0V0z\" fill=\"none\"/>\n",
              "    <path d=\"M18.56 5.44l.94 2.06.94-2.06 2.06-.94-2.06-.94-.94-2.06-.94 2.06-2.06.94zm-11 1L8.5 8.5l.94-2.06 2.06-.94-2.06-.94L8.5 2.5l-.94 2.06-2.06.94zm10 10l.94 2.06.94-2.06 2.06-.94-2.06-.94-.94-2.06-.94 2.06-2.06.94z\"/><path d=\"M17.41 7.96l-1.37-1.37c-.4-.4-.92-.59-1.43-.59-.52 0-1.04.2-1.43.59L10.3 9.45l-7.72 7.72c-.78.78-.78 2.05 0 2.83L4 21.41c.39.39.9.59 1.41.59.51 0 1.02-.2 1.41-.59l7.78-7.78 2.81-2.81c.8-.78.8-2.07 0-2.86zM5.41 20L4 18.59l7.72-7.72 1.47 1.35L5.41 20z\"/>\n",
              "  </svg>\n",
              "      </button>\n",
              "      \n",
              "  <style>\n",
              "    .colab-df-container {\n",
              "      display:flex;\n",
              "      flex-wrap:wrap;\n",
              "      gap: 12px;\n",
              "    }\n",
              "\n",
              "    .colab-df-convert {\n",
              "      background-color: #E8F0FE;\n",
              "      border: none;\n",
              "      border-radius: 50%;\n",
              "      cursor: pointer;\n",
              "      display: none;\n",
              "      fill: #1967D2;\n",
              "      height: 32px;\n",
              "      padding: 0 0 0 0;\n",
              "      width: 32px;\n",
              "    }\n",
              "\n",
              "    .colab-df-convert:hover {\n",
              "      background-color: #E2EBFA;\n",
              "      box-shadow: 0px 1px 2px rgba(60, 64, 67, 0.3), 0px 1px 3px 1px rgba(60, 64, 67, 0.15);\n",
              "      fill: #174EA6;\n",
              "    }\n",
              "\n",
              "    [theme=dark] .colab-df-convert {\n",
              "      background-color: #3B4455;\n",
              "      fill: #D2E3FC;\n",
              "    }\n",
              "\n",
              "    [theme=dark] .colab-df-convert:hover {\n",
              "      background-color: #434B5C;\n",
              "      box-shadow: 0px 1px 3px 1px rgba(0, 0, 0, 0.15);\n",
              "      filter: drop-shadow(0px 1px 2px rgba(0, 0, 0, 0.3));\n",
              "      fill: #FFFFFF;\n",
              "    }\n",
              "  </style>\n",
              "\n",
              "      <script>\n",
              "        const buttonEl =\n",
              "          document.querySelector('#df-e0c716bb-ec12-4493-8f33-48e817437583 button.colab-df-convert');\n",
              "        buttonEl.style.display =\n",
              "          google.colab.kernel.accessAllowed ? 'block' : 'none';\n",
              "\n",
              "        async function convertToInteractive(key) {\n",
              "          const element = document.querySelector('#df-e0c716bb-ec12-4493-8f33-48e817437583');\n",
              "          const dataTable =\n",
              "            await google.colab.kernel.invokeFunction('convertToInteractive',\n",
              "                                                     [key], {});\n",
              "          if (!dataTable) return;\n",
              "\n",
              "          const docLinkHtml = 'Like what you see? Visit the ' +\n",
              "            '<a target=\"_blank\" href=https://colab.research.google.com/notebooks/data_table.ipynb>data table notebook</a>'\n",
              "            + ' to learn more about interactive tables.';\n",
              "          element.innerHTML = '';\n",
              "          dataTable['output_type'] = 'display_data';\n",
              "          await google.colab.output.renderOutput(dataTable, element);\n",
              "          const docLink = document.createElement('div');\n",
              "          docLink.innerHTML = docLinkHtml;\n",
              "          element.appendChild(docLink);\n",
              "        }\n",
              "      </script>\n",
              "    </div>\n",
              "  </div>\n",
              "  "
            ]
          },
          "metadata": {},
          "execution_count": 10
        }
      ]
    },
    {
      "cell_type": "code",
      "source": [
        "df.to_csv('object_detection.csv',index=False)"
      ],
      "metadata": {
        "id": "wgf7Pg85gqRb"
      },
      "execution_count": null,
      "outputs": []
    },
    {
      "cell_type": "code",
      "source": [
        "df"
      ],
      "metadata": {
        "colab": {
          "base_uri": "https://localhost:8080/",
          "height": 424
        },
        "id": "3Ym9pvwlgqOp",
        "outputId": "086f83e0-230b-48bc-ee6b-617d6f6d9433"
      },
      "execution_count": 11,
      "outputs": [
        {
          "output_type": "execute_result",
          "data": {
            "text/plain": [
              "    tract_id  house_num    shape_area   shape_length  shape_area_c  \\\n",
              "0     832400      779.0  2.228243e+06  154689.910422  2.040189e+06   \n",
              "1     832500      177.0  1.712526e+06   65381.669831  1.571339e+06   \n",
              "2     832600      192.0  1.542560e+06   62029.187004  1.418126e+06   \n",
              "3     832900      116.0  9.165843e+05   39755.607375  8.440270e+05   \n",
              "4     833000      106.0  3.059690e+06   72289.006236  2.786114e+06   \n",
              "..       ...        ...           ...            ...           ...   \n",
              "793   831900      447.0  1.317559e+06  101141.433622  1.194704e+06   \n",
              "794   832000      213.0  1.536429e+06   70739.019693  1.391498e+06   \n",
              "795   832100      218.0  1.805965e+06   77444.712979  1.621782e+06   \n",
              "796   832200      405.0  1.110235e+06   86114.732169  1.009572e+06   \n",
              "797   832300      173.0  1.519129e+06   54932.836685  1.417820e+06   \n",
              "\n",
              "     shape_length_c  target  \n",
              "0     141230.226156       2  \n",
              "1      59466.536988       2  \n",
              "2      56437.295050       2  \n",
              "3      36175.309647       2  \n",
              "4      65925.252918       2  \n",
              "..              ...     ...  \n",
              "793    91186.471272       2  \n",
              "794    63580.085051       2  \n",
              "795    69571.020570       2  \n",
              "796    77541.209972       2  \n",
              "797    50217.318556       2  \n",
              "\n",
              "[798 rows x 7 columns]"
            ],
            "text/html": [
              "\n",
              "  <div id=\"df-c7e2e9ca-856e-4477-9b5b-b4102ad15523\">\n",
              "    <div class=\"colab-df-container\">\n",
              "      <div>\n",
              "<style scoped>\n",
              "    .dataframe tbody tr th:only-of-type {\n",
              "        vertical-align: middle;\n",
              "    }\n",
              "\n",
              "    .dataframe tbody tr th {\n",
              "        vertical-align: top;\n",
              "    }\n",
              "\n",
              "    .dataframe thead th {\n",
              "        text-align: right;\n",
              "    }\n",
              "</style>\n",
              "<table border=\"1\" class=\"dataframe\">\n",
              "  <thead>\n",
              "    <tr style=\"text-align: right;\">\n",
              "      <th></th>\n",
              "      <th>tract_id</th>\n",
              "      <th>house_num</th>\n",
              "      <th>shape_area</th>\n",
              "      <th>shape_length</th>\n",
              "      <th>shape_area_c</th>\n",
              "      <th>shape_length_c</th>\n",
              "      <th>target</th>\n",
              "    </tr>\n",
              "  </thead>\n",
              "  <tbody>\n",
              "    <tr>\n",
              "      <th>0</th>\n",
              "      <td>832400</td>\n",
              "      <td>779.0</td>\n",
              "      <td>2.228243e+06</td>\n",
              "      <td>154689.910422</td>\n",
              "      <td>2.040189e+06</td>\n",
              "      <td>141230.226156</td>\n",
              "      <td>2</td>\n",
              "    </tr>\n",
              "    <tr>\n",
              "      <th>1</th>\n",
              "      <td>832500</td>\n",
              "      <td>177.0</td>\n",
              "      <td>1.712526e+06</td>\n",
              "      <td>65381.669831</td>\n",
              "      <td>1.571339e+06</td>\n",
              "      <td>59466.536988</td>\n",
              "      <td>2</td>\n",
              "    </tr>\n",
              "    <tr>\n",
              "      <th>2</th>\n",
              "      <td>832600</td>\n",
              "      <td>192.0</td>\n",
              "      <td>1.542560e+06</td>\n",
              "      <td>62029.187004</td>\n",
              "      <td>1.418126e+06</td>\n",
              "      <td>56437.295050</td>\n",
              "      <td>2</td>\n",
              "    </tr>\n",
              "    <tr>\n",
              "      <th>3</th>\n",
              "      <td>832900</td>\n",
              "      <td>116.0</td>\n",
              "      <td>9.165843e+05</td>\n",
              "      <td>39755.607375</td>\n",
              "      <td>8.440270e+05</td>\n",
              "      <td>36175.309647</td>\n",
              "      <td>2</td>\n",
              "    </tr>\n",
              "    <tr>\n",
              "      <th>4</th>\n",
              "      <td>833000</td>\n",
              "      <td>106.0</td>\n",
              "      <td>3.059690e+06</td>\n",
              "      <td>72289.006236</td>\n",
              "      <td>2.786114e+06</td>\n",
              "      <td>65925.252918</td>\n",
              "      <td>2</td>\n",
              "    </tr>\n",
              "    <tr>\n",
              "      <th>...</th>\n",
              "      <td>...</td>\n",
              "      <td>...</td>\n",
              "      <td>...</td>\n",
              "      <td>...</td>\n",
              "      <td>...</td>\n",
              "      <td>...</td>\n",
              "      <td>...</td>\n",
              "    </tr>\n",
              "    <tr>\n",
              "      <th>793</th>\n",
              "      <td>831900</td>\n",
              "      <td>447.0</td>\n",
              "      <td>1.317559e+06</td>\n",
              "      <td>101141.433622</td>\n",
              "      <td>1.194704e+06</td>\n",
              "      <td>91186.471272</td>\n",
              "      <td>2</td>\n",
              "    </tr>\n",
              "    <tr>\n",
              "      <th>794</th>\n",
              "      <td>832000</td>\n",
              "      <td>213.0</td>\n",
              "      <td>1.536429e+06</td>\n",
              "      <td>70739.019693</td>\n",
              "      <td>1.391498e+06</td>\n",
              "      <td>63580.085051</td>\n",
              "      <td>2</td>\n",
              "    </tr>\n",
              "    <tr>\n",
              "      <th>795</th>\n",
              "      <td>832100</td>\n",
              "      <td>218.0</td>\n",
              "      <td>1.805965e+06</td>\n",
              "      <td>77444.712979</td>\n",
              "      <td>1.621782e+06</td>\n",
              "      <td>69571.020570</td>\n",
              "      <td>2</td>\n",
              "    </tr>\n",
              "    <tr>\n",
              "      <th>796</th>\n",
              "      <td>832200</td>\n",
              "      <td>405.0</td>\n",
              "      <td>1.110235e+06</td>\n",
              "      <td>86114.732169</td>\n",
              "      <td>1.009572e+06</td>\n",
              "      <td>77541.209972</td>\n",
              "      <td>2</td>\n",
              "    </tr>\n",
              "    <tr>\n",
              "      <th>797</th>\n",
              "      <td>832300</td>\n",
              "      <td>173.0</td>\n",
              "      <td>1.519129e+06</td>\n",
              "      <td>54932.836685</td>\n",
              "      <td>1.417820e+06</td>\n",
              "      <td>50217.318556</td>\n",
              "      <td>2</td>\n",
              "    </tr>\n",
              "  </tbody>\n",
              "</table>\n",
              "<p>798 rows × 7 columns</p>\n",
              "</div>\n",
              "      <button class=\"colab-df-convert\" onclick=\"convertToInteractive('df-c7e2e9ca-856e-4477-9b5b-b4102ad15523')\"\n",
              "              title=\"Convert this dataframe to an interactive table.\"\n",
              "              style=\"display:none;\">\n",
              "        \n",
              "  <svg xmlns=\"http://www.w3.org/2000/svg\" height=\"24px\"viewBox=\"0 0 24 24\"\n",
              "       width=\"24px\">\n",
              "    <path d=\"M0 0h24v24H0V0z\" fill=\"none\"/>\n",
              "    <path d=\"M18.56 5.44l.94 2.06.94-2.06 2.06-.94-2.06-.94-.94-2.06-.94 2.06-2.06.94zm-11 1L8.5 8.5l.94-2.06 2.06-.94-2.06-.94L8.5 2.5l-.94 2.06-2.06.94zm10 10l.94 2.06.94-2.06 2.06-.94-2.06-.94-.94-2.06-.94 2.06-2.06.94z\"/><path d=\"M17.41 7.96l-1.37-1.37c-.4-.4-.92-.59-1.43-.59-.52 0-1.04.2-1.43.59L10.3 9.45l-7.72 7.72c-.78.78-.78 2.05 0 2.83L4 21.41c.39.39.9.59 1.41.59.51 0 1.02-.2 1.41-.59l7.78-7.78 2.81-2.81c.8-.78.8-2.07 0-2.86zM5.41 20L4 18.59l7.72-7.72 1.47 1.35L5.41 20z\"/>\n",
              "  </svg>\n",
              "      </button>\n",
              "      \n",
              "  <style>\n",
              "    .colab-df-container {\n",
              "      display:flex;\n",
              "      flex-wrap:wrap;\n",
              "      gap: 12px;\n",
              "    }\n",
              "\n",
              "    .colab-df-convert {\n",
              "      background-color: #E8F0FE;\n",
              "      border: none;\n",
              "      border-radius: 50%;\n",
              "      cursor: pointer;\n",
              "      display: none;\n",
              "      fill: #1967D2;\n",
              "      height: 32px;\n",
              "      padding: 0 0 0 0;\n",
              "      width: 32px;\n",
              "    }\n",
              "\n",
              "    .colab-df-convert:hover {\n",
              "      background-color: #E2EBFA;\n",
              "      box-shadow: 0px 1px 2px rgba(60, 64, 67, 0.3), 0px 1px 3px 1px rgba(60, 64, 67, 0.15);\n",
              "      fill: #174EA6;\n",
              "    }\n",
              "\n",
              "    [theme=dark] .colab-df-convert {\n",
              "      background-color: #3B4455;\n",
              "      fill: #D2E3FC;\n",
              "    }\n",
              "\n",
              "    [theme=dark] .colab-df-convert:hover {\n",
              "      background-color: #434B5C;\n",
              "      box-shadow: 0px 1px 3px 1px rgba(0, 0, 0, 0.15);\n",
              "      filter: drop-shadow(0px 1px 2px rgba(0, 0, 0, 0.3));\n",
              "      fill: #FFFFFF;\n",
              "    }\n",
              "  </style>\n",
              "\n",
              "      <script>\n",
              "        const buttonEl =\n",
              "          document.querySelector('#df-c7e2e9ca-856e-4477-9b5b-b4102ad15523 button.colab-df-convert');\n",
              "        buttonEl.style.display =\n",
              "          google.colab.kernel.accessAllowed ? 'block' : 'none';\n",
              "\n",
              "        async function convertToInteractive(key) {\n",
              "          const element = document.querySelector('#df-c7e2e9ca-856e-4477-9b5b-b4102ad15523');\n",
              "          const dataTable =\n",
              "            await google.colab.kernel.invokeFunction('convertToInteractive',\n",
              "                                                     [key], {});\n",
              "          if (!dataTable) return;\n",
              "\n",
              "          const docLinkHtml = 'Like what you see? Visit the ' +\n",
              "            '<a target=\"_blank\" href=https://colab.research.google.com/notebooks/data_table.ipynb>data table notebook</a>'\n",
              "            + ' to learn more about interactive tables.';\n",
              "          element.innerHTML = '';\n",
              "          dataTable['output_type'] = 'display_data';\n",
              "          await google.colab.output.renderOutput(dataTable, element);\n",
              "          const docLink = document.createElement('div');\n",
              "          docLink.innerHTML = docLinkHtml;\n",
              "          element.appendChild(docLink);\n",
              "        }\n",
              "      </script>\n",
              "    </div>\n",
              "  </div>\n",
              "  "
            ]
          },
          "metadata": {},
          "execution_count": 11
        }
      ]
    },
    {
      "cell_type": "code",
      "source": [
        "%cd /content/drive/My Drive/Colab Notebooks/object_detection/"
      ],
      "metadata": {
        "colab": {
          "base_uri": "https://localhost:8080/"
        },
        "id": "czNUiwChYi3R",
        "outputId": "93003aca-4d1b-44ee-9086-0227fc73a135"
      },
      "execution_count": 14,
      "outputs": [
        {
          "output_type": "stream",
          "name": "stdout",
          "text": [
            "/content/drive/My Drive/Colab Notebooks/object_detection\n"
          ]
        }
      ]
    },
    {
      "cell_type": "code",
      "source": [
        "df_3lables = pd.read_csv('object_detection.csv') "
      ],
      "metadata": {
        "id": "puCGf15tYiyE"
      },
      "execution_count": 15,
      "outputs": []
    },
    {
      "cell_type": "code",
      "source": [
        "df_3lables"
      ],
      "metadata": {
        "colab": {
          "base_uri": "https://localhost:8080/",
          "height": 424
        },
        "id": "sGh2eaQ6YivS",
        "outputId": "96625fe7-4081-46dc-add4-7fd3f8971070"
      },
      "execution_count": 16,
      "outputs": [
        {
          "output_type": "execute_result",
          "data": {
            "text/plain": [
              "     tract_id  house_num    shape_area   shape_length  shape_area_c  \\\n",
              "0      832400      779.0  2.228243e+06  154689.910422  2.040189e+06   \n",
              "1      832500      177.0  1.712526e+06   65381.669831  1.571339e+06   \n",
              "2      832600      192.0  1.542560e+06   62029.187004  1.418126e+06   \n",
              "3      832900      116.0  9.165843e+05   39755.607375  8.440270e+05   \n",
              "4      833000      106.0  3.059690e+06   72289.006236  2.786114e+06   \n",
              "..        ...        ...           ...            ...           ...   \n",
              "793    831900      447.0  1.317559e+06  101141.433622  1.194704e+06   \n",
              "794    832000      213.0  1.536429e+06   70739.019693  1.391498e+06   \n",
              "795    832100      218.0  1.805965e+06   77444.712979  1.621782e+06   \n",
              "796    832200      405.0  1.110235e+06   86114.732169  1.009572e+06   \n",
              "797    832300      173.0  1.519129e+06   54932.836685  1.417820e+06   \n",
              "\n",
              "     shape_length_c  target  \n",
              "0     141230.226156       2  \n",
              "1      59466.536988       2  \n",
              "2      56437.295050       2  \n",
              "3      36175.309647       2  \n",
              "4      65925.252918       2  \n",
              "..              ...     ...  \n",
              "793    91186.471272       2  \n",
              "794    63580.085051       2  \n",
              "795    69571.020570       2  \n",
              "796    77541.209972       2  \n",
              "797    50217.318556       2  \n",
              "\n",
              "[798 rows x 7 columns]"
            ],
            "text/html": [
              "\n",
              "  <div id=\"df-3afa2cc7-a76b-4b70-8a06-70bd5aeb9cf9\">\n",
              "    <div class=\"colab-df-container\">\n",
              "      <div>\n",
              "<style scoped>\n",
              "    .dataframe tbody tr th:only-of-type {\n",
              "        vertical-align: middle;\n",
              "    }\n",
              "\n",
              "    .dataframe tbody tr th {\n",
              "        vertical-align: top;\n",
              "    }\n",
              "\n",
              "    .dataframe thead th {\n",
              "        text-align: right;\n",
              "    }\n",
              "</style>\n",
              "<table border=\"1\" class=\"dataframe\">\n",
              "  <thead>\n",
              "    <tr style=\"text-align: right;\">\n",
              "      <th></th>\n",
              "      <th>tract_id</th>\n",
              "      <th>house_num</th>\n",
              "      <th>shape_area</th>\n",
              "      <th>shape_length</th>\n",
              "      <th>shape_area_c</th>\n",
              "      <th>shape_length_c</th>\n",
              "      <th>target</th>\n",
              "    </tr>\n",
              "  </thead>\n",
              "  <tbody>\n",
              "    <tr>\n",
              "      <th>0</th>\n",
              "      <td>832400</td>\n",
              "      <td>779.0</td>\n",
              "      <td>2.228243e+06</td>\n",
              "      <td>154689.910422</td>\n",
              "      <td>2.040189e+06</td>\n",
              "      <td>141230.226156</td>\n",
              "      <td>2</td>\n",
              "    </tr>\n",
              "    <tr>\n",
              "      <th>1</th>\n",
              "      <td>832500</td>\n",
              "      <td>177.0</td>\n",
              "      <td>1.712526e+06</td>\n",
              "      <td>65381.669831</td>\n",
              "      <td>1.571339e+06</td>\n",
              "      <td>59466.536988</td>\n",
              "      <td>2</td>\n",
              "    </tr>\n",
              "    <tr>\n",
              "      <th>2</th>\n",
              "      <td>832600</td>\n",
              "      <td>192.0</td>\n",
              "      <td>1.542560e+06</td>\n",
              "      <td>62029.187004</td>\n",
              "      <td>1.418126e+06</td>\n",
              "      <td>56437.295050</td>\n",
              "      <td>2</td>\n",
              "    </tr>\n",
              "    <tr>\n",
              "      <th>3</th>\n",
              "      <td>832900</td>\n",
              "      <td>116.0</td>\n",
              "      <td>9.165843e+05</td>\n",
              "      <td>39755.607375</td>\n",
              "      <td>8.440270e+05</td>\n",
              "      <td>36175.309647</td>\n",
              "      <td>2</td>\n",
              "    </tr>\n",
              "    <tr>\n",
              "      <th>4</th>\n",
              "      <td>833000</td>\n",
              "      <td>106.0</td>\n",
              "      <td>3.059690e+06</td>\n",
              "      <td>72289.006236</td>\n",
              "      <td>2.786114e+06</td>\n",
              "      <td>65925.252918</td>\n",
              "      <td>2</td>\n",
              "    </tr>\n",
              "    <tr>\n",
              "      <th>...</th>\n",
              "      <td>...</td>\n",
              "      <td>...</td>\n",
              "      <td>...</td>\n",
              "      <td>...</td>\n",
              "      <td>...</td>\n",
              "      <td>...</td>\n",
              "      <td>...</td>\n",
              "    </tr>\n",
              "    <tr>\n",
              "      <th>793</th>\n",
              "      <td>831900</td>\n",
              "      <td>447.0</td>\n",
              "      <td>1.317559e+06</td>\n",
              "      <td>101141.433622</td>\n",
              "      <td>1.194704e+06</td>\n",
              "      <td>91186.471272</td>\n",
              "      <td>2</td>\n",
              "    </tr>\n",
              "    <tr>\n",
              "      <th>794</th>\n",
              "      <td>832000</td>\n",
              "      <td>213.0</td>\n",
              "      <td>1.536429e+06</td>\n",
              "      <td>70739.019693</td>\n",
              "      <td>1.391498e+06</td>\n",
              "      <td>63580.085051</td>\n",
              "      <td>2</td>\n",
              "    </tr>\n",
              "    <tr>\n",
              "      <th>795</th>\n",
              "      <td>832100</td>\n",
              "      <td>218.0</td>\n",
              "      <td>1.805965e+06</td>\n",
              "      <td>77444.712979</td>\n",
              "      <td>1.621782e+06</td>\n",
              "      <td>69571.020570</td>\n",
              "      <td>2</td>\n",
              "    </tr>\n",
              "    <tr>\n",
              "      <th>796</th>\n",
              "      <td>832200</td>\n",
              "      <td>405.0</td>\n",
              "      <td>1.110235e+06</td>\n",
              "      <td>86114.732169</td>\n",
              "      <td>1.009572e+06</td>\n",
              "      <td>77541.209972</td>\n",
              "      <td>2</td>\n",
              "    </tr>\n",
              "    <tr>\n",
              "      <th>797</th>\n",
              "      <td>832300</td>\n",
              "      <td>173.0</td>\n",
              "      <td>1.519129e+06</td>\n",
              "      <td>54932.836685</td>\n",
              "      <td>1.417820e+06</td>\n",
              "      <td>50217.318556</td>\n",
              "      <td>2</td>\n",
              "    </tr>\n",
              "  </tbody>\n",
              "</table>\n",
              "<p>798 rows × 7 columns</p>\n",
              "</div>\n",
              "      <button class=\"colab-df-convert\" onclick=\"convertToInteractive('df-3afa2cc7-a76b-4b70-8a06-70bd5aeb9cf9')\"\n",
              "              title=\"Convert this dataframe to an interactive table.\"\n",
              "              style=\"display:none;\">\n",
              "        \n",
              "  <svg xmlns=\"http://www.w3.org/2000/svg\" height=\"24px\"viewBox=\"0 0 24 24\"\n",
              "       width=\"24px\">\n",
              "    <path d=\"M0 0h24v24H0V0z\" fill=\"none\"/>\n",
              "    <path d=\"M18.56 5.44l.94 2.06.94-2.06 2.06-.94-2.06-.94-.94-2.06-.94 2.06-2.06.94zm-11 1L8.5 8.5l.94-2.06 2.06-.94-2.06-.94L8.5 2.5l-.94 2.06-2.06.94zm10 10l.94 2.06.94-2.06 2.06-.94-2.06-.94-.94-2.06-.94 2.06-2.06.94z\"/><path d=\"M17.41 7.96l-1.37-1.37c-.4-.4-.92-.59-1.43-.59-.52 0-1.04.2-1.43.59L10.3 9.45l-7.72 7.72c-.78.78-.78 2.05 0 2.83L4 21.41c.39.39.9.59 1.41.59.51 0 1.02-.2 1.41-.59l7.78-7.78 2.81-2.81c.8-.78.8-2.07 0-2.86zM5.41 20L4 18.59l7.72-7.72 1.47 1.35L5.41 20z\"/>\n",
              "  </svg>\n",
              "      </button>\n",
              "      \n",
              "  <style>\n",
              "    .colab-df-container {\n",
              "      display:flex;\n",
              "      flex-wrap:wrap;\n",
              "      gap: 12px;\n",
              "    }\n",
              "\n",
              "    .colab-df-convert {\n",
              "      background-color: #E8F0FE;\n",
              "      border: none;\n",
              "      border-radius: 50%;\n",
              "      cursor: pointer;\n",
              "      display: none;\n",
              "      fill: #1967D2;\n",
              "      height: 32px;\n",
              "      padding: 0 0 0 0;\n",
              "      width: 32px;\n",
              "    }\n",
              "\n",
              "    .colab-df-convert:hover {\n",
              "      background-color: #E2EBFA;\n",
              "      box-shadow: 0px 1px 2px rgba(60, 64, 67, 0.3), 0px 1px 3px 1px rgba(60, 64, 67, 0.15);\n",
              "      fill: #174EA6;\n",
              "    }\n",
              "\n",
              "    [theme=dark] .colab-df-convert {\n",
              "      background-color: #3B4455;\n",
              "      fill: #D2E3FC;\n",
              "    }\n",
              "\n",
              "    [theme=dark] .colab-df-convert:hover {\n",
              "      background-color: #434B5C;\n",
              "      box-shadow: 0px 1px 3px 1px rgba(0, 0, 0, 0.15);\n",
              "      filter: drop-shadow(0px 1px 2px rgba(0, 0, 0, 0.3));\n",
              "      fill: #FFFFFF;\n",
              "    }\n",
              "  </style>\n",
              "\n",
              "      <script>\n",
              "        const buttonEl =\n",
              "          document.querySelector('#df-3afa2cc7-a76b-4b70-8a06-70bd5aeb9cf9 button.colab-df-convert');\n",
              "        buttonEl.style.display =\n",
              "          google.colab.kernel.accessAllowed ? 'block' : 'none';\n",
              "\n",
              "        async function convertToInteractive(key) {\n",
              "          const element = document.querySelector('#df-3afa2cc7-a76b-4b70-8a06-70bd5aeb9cf9');\n",
              "          const dataTable =\n",
              "            await google.colab.kernel.invokeFunction('convertToInteractive',\n",
              "                                                     [key], {});\n",
              "          if (!dataTable) return;\n",
              "\n",
              "          const docLinkHtml = 'Like what you see? Visit the ' +\n",
              "            '<a target=\"_blank\" href=https://colab.research.google.com/notebooks/data_table.ipynb>data table notebook</a>'\n",
              "            + ' to learn more about interactive tables.';\n",
              "          element.innerHTML = '';\n",
              "          dataTable['output_type'] = 'display_data';\n",
              "          await google.colab.output.renderOutput(dataTable, element);\n",
              "          const docLink = document.createElement('div');\n",
              "          docLink.innerHTML = docLinkHtml;\n",
              "          element.appendChild(docLink);\n",
              "        }\n",
              "      </script>\n",
              "    </div>\n",
              "  </div>\n",
              "  "
            ]
          },
          "metadata": {},
          "execution_count": 16
        }
      ]
    },
    {
      "cell_type": "code",
      "source": [
        "# Modify the 3 labels into 2 labels\n",
        "df_3lables.loc[df_3lables['target']==2,'target']=0"
      ],
      "metadata": {
        "id": "qqDe_NMjJWiq"
      },
      "execution_count": 17,
      "outputs": []
    },
    {
      "cell_type": "code",
      "source": [
        "df_3lables.loc[df_3lables['target']==0,].describe()"
      ],
      "metadata": {
        "colab": {
          "base_uri": "https://localhost:8080/",
          "height": 300
        },
        "id": "Ymx076ga3ATq",
        "outputId": "030d4fc3-81cc-4951-dc27-249858fa0e6d"
      },
      "execution_count": 18,
      "outputs": [
        {
          "output_type": "execute_result",
          "data": {
            "text/plain": [
              "           tract_id    house_num    shape_area   shape_length  shape_area_c  \\\n",
              "count     640.00000   639.000000  6.400000e+02     640.000000  6.400000e+02   \n",
              "mean   387185.13750   551.369327  1.519131e+06  105101.477462  1.411505e+06   \n",
              "std    275943.20861   368.353527  6.291267e+05   52415.727393  5.888492e+05   \n",
              "min     10201.00000     1.000000  0.000000e+00       0.000000  0.000000e+00   \n",
              "25%    150401.75000   236.500000  1.145393e+06   67402.787744  1.054233e+06   \n",
              "50%    301801.50000   502.000000  1.532362e+06  100175.251913  1.418824e+06   \n",
              "75%    660301.25000   836.000000  1.911709e+06  144223.920412  1.788763e+06   \n",
              "max    843900.00000  1546.000000  4.993901e+06  246453.304842  4.604613e+06   \n",
              "\n",
              "       shape_length_c  target  \n",
              "count      640.000000   640.0  \n",
              "mean     97741.296298     0.0  \n",
              "std      49669.755329     0.0  \n",
              "min          0.000000     0.0  \n",
              "25%      62300.355907     0.0  \n",
              "50%      92064.408083     0.0  \n",
              "75%     135096.929934     0.0  \n",
              "max     233845.354257     0.0  "
            ],
            "text/html": [
              "\n",
              "  <div id=\"df-13e2b69d-6c55-4898-a528-b136ae6f7fb9\">\n",
              "    <div class=\"colab-df-container\">\n",
              "      <div>\n",
              "<style scoped>\n",
              "    .dataframe tbody tr th:only-of-type {\n",
              "        vertical-align: middle;\n",
              "    }\n",
              "\n",
              "    .dataframe tbody tr th {\n",
              "        vertical-align: top;\n",
              "    }\n",
              "\n",
              "    .dataframe thead th {\n",
              "        text-align: right;\n",
              "    }\n",
              "</style>\n",
              "<table border=\"1\" class=\"dataframe\">\n",
              "  <thead>\n",
              "    <tr style=\"text-align: right;\">\n",
              "      <th></th>\n",
              "      <th>tract_id</th>\n",
              "      <th>house_num</th>\n",
              "      <th>shape_area</th>\n",
              "      <th>shape_length</th>\n",
              "      <th>shape_area_c</th>\n",
              "      <th>shape_length_c</th>\n",
              "      <th>target</th>\n",
              "    </tr>\n",
              "  </thead>\n",
              "  <tbody>\n",
              "    <tr>\n",
              "      <th>count</th>\n",
              "      <td>640.00000</td>\n",
              "      <td>639.000000</td>\n",
              "      <td>6.400000e+02</td>\n",
              "      <td>640.000000</td>\n",
              "      <td>6.400000e+02</td>\n",
              "      <td>640.000000</td>\n",
              "      <td>640.0</td>\n",
              "    </tr>\n",
              "    <tr>\n",
              "      <th>mean</th>\n",
              "      <td>387185.13750</td>\n",
              "      <td>551.369327</td>\n",
              "      <td>1.519131e+06</td>\n",
              "      <td>105101.477462</td>\n",
              "      <td>1.411505e+06</td>\n",
              "      <td>97741.296298</td>\n",
              "      <td>0.0</td>\n",
              "    </tr>\n",
              "    <tr>\n",
              "      <th>std</th>\n",
              "      <td>275943.20861</td>\n",
              "      <td>368.353527</td>\n",
              "      <td>6.291267e+05</td>\n",
              "      <td>52415.727393</td>\n",
              "      <td>5.888492e+05</td>\n",
              "      <td>49669.755329</td>\n",
              "      <td>0.0</td>\n",
              "    </tr>\n",
              "    <tr>\n",
              "      <th>min</th>\n",
              "      <td>10201.00000</td>\n",
              "      <td>1.000000</td>\n",
              "      <td>0.000000e+00</td>\n",
              "      <td>0.000000</td>\n",
              "      <td>0.000000e+00</td>\n",
              "      <td>0.000000</td>\n",
              "      <td>0.0</td>\n",
              "    </tr>\n",
              "    <tr>\n",
              "      <th>25%</th>\n",
              "      <td>150401.75000</td>\n",
              "      <td>236.500000</td>\n",
              "      <td>1.145393e+06</td>\n",
              "      <td>67402.787744</td>\n",
              "      <td>1.054233e+06</td>\n",
              "      <td>62300.355907</td>\n",
              "      <td>0.0</td>\n",
              "    </tr>\n",
              "    <tr>\n",
              "      <th>50%</th>\n",
              "      <td>301801.50000</td>\n",
              "      <td>502.000000</td>\n",
              "      <td>1.532362e+06</td>\n",
              "      <td>100175.251913</td>\n",
              "      <td>1.418824e+06</td>\n",
              "      <td>92064.408083</td>\n",
              "      <td>0.0</td>\n",
              "    </tr>\n",
              "    <tr>\n",
              "      <th>75%</th>\n",
              "      <td>660301.25000</td>\n",
              "      <td>836.000000</td>\n",
              "      <td>1.911709e+06</td>\n",
              "      <td>144223.920412</td>\n",
              "      <td>1.788763e+06</td>\n",
              "      <td>135096.929934</td>\n",
              "      <td>0.0</td>\n",
              "    </tr>\n",
              "    <tr>\n",
              "      <th>max</th>\n",
              "      <td>843900.00000</td>\n",
              "      <td>1546.000000</td>\n",
              "      <td>4.993901e+06</td>\n",
              "      <td>246453.304842</td>\n",
              "      <td>4.604613e+06</td>\n",
              "      <td>233845.354257</td>\n",
              "      <td>0.0</td>\n",
              "    </tr>\n",
              "  </tbody>\n",
              "</table>\n",
              "</div>\n",
              "      <button class=\"colab-df-convert\" onclick=\"convertToInteractive('df-13e2b69d-6c55-4898-a528-b136ae6f7fb9')\"\n",
              "              title=\"Convert this dataframe to an interactive table.\"\n",
              "              style=\"display:none;\">\n",
              "        \n",
              "  <svg xmlns=\"http://www.w3.org/2000/svg\" height=\"24px\"viewBox=\"0 0 24 24\"\n",
              "       width=\"24px\">\n",
              "    <path d=\"M0 0h24v24H0V0z\" fill=\"none\"/>\n",
              "    <path d=\"M18.56 5.44l.94 2.06.94-2.06 2.06-.94-2.06-.94-.94-2.06-.94 2.06-2.06.94zm-11 1L8.5 8.5l.94-2.06 2.06-.94-2.06-.94L8.5 2.5l-.94 2.06-2.06.94zm10 10l.94 2.06.94-2.06 2.06-.94-2.06-.94-.94-2.06-.94 2.06-2.06.94z\"/><path d=\"M17.41 7.96l-1.37-1.37c-.4-.4-.92-.59-1.43-.59-.52 0-1.04.2-1.43.59L10.3 9.45l-7.72 7.72c-.78.78-.78 2.05 0 2.83L4 21.41c.39.39.9.59 1.41.59.51 0 1.02-.2 1.41-.59l7.78-7.78 2.81-2.81c.8-.78.8-2.07 0-2.86zM5.41 20L4 18.59l7.72-7.72 1.47 1.35L5.41 20z\"/>\n",
              "  </svg>\n",
              "      </button>\n",
              "      \n",
              "  <style>\n",
              "    .colab-df-container {\n",
              "      display:flex;\n",
              "      flex-wrap:wrap;\n",
              "      gap: 12px;\n",
              "    }\n",
              "\n",
              "    .colab-df-convert {\n",
              "      background-color: #E8F0FE;\n",
              "      border: none;\n",
              "      border-radius: 50%;\n",
              "      cursor: pointer;\n",
              "      display: none;\n",
              "      fill: #1967D2;\n",
              "      height: 32px;\n",
              "      padding: 0 0 0 0;\n",
              "      width: 32px;\n",
              "    }\n",
              "\n",
              "    .colab-df-convert:hover {\n",
              "      background-color: #E2EBFA;\n",
              "      box-shadow: 0px 1px 2px rgba(60, 64, 67, 0.3), 0px 1px 3px 1px rgba(60, 64, 67, 0.15);\n",
              "      fill: #174EA6;\n",
              "    }\n",
              "\n",
              "    [theme=dark] .colab-df-convert {\n",
              "      background-color: #3B4455;\n",
              "      fill: #D2E3FC;\n",
              "    }\n",
              "\n",
              "    [theme=dark] .colab-df-convert:hover {\n",
              "      background-color: #434B5C;\n",
              "      box-shadow: 0px 1px 3px 1px rgba(0, 0, 0, 0.15);\n",
              "      filter: drop-shadow(0px 1px 2px rgba(0, 0, 0, 0.3));\n",
              "      fill: #FFFFFF;\n",
              "    }\n",
              "  </style>\n",
              "\n",
              "      <script>\n",
              "        const buttonEl =\n",
              "          document.querySelector('#df-13e2b69d-6c55-4898-a528-b136ae6f7fb9 button.colab-df-convert');\n",
              "        buttonEl.style.display =\n",
              "          google.colab.kernel.accessAllowed ? 'block' : 'none';\n",
              "\n",
              "        async function convertToInteractive(key) {\n",
              "          const element = document.querySelector('#df-13e2b69d-6c55-4898-a528-b136ae6f7fb9');\n",
              "          const dataTable =\n",
              "            await google.colab.kernel.invokeFunction('convertToInteractive',\n",
              "                                                     [key], {});\n",
              "          if (!dataTable) return;\n",
              "\n",
              "          const docLinkHtml = 'Like what you see? Visit the ' +\n",
              "            '<a target=\"_blank\" href=https://colab.research.google.com/notebooks/data_table.ipynb>data table notebook</a>'\n",
              "            + ' to learn more about interactive tables.';\n",
              "          element.innerHTML = '';\n",
              "          dataTable['output_type'] = 'display_data';\n",
              "          await google.colab.output.renderOutput(dataTable, element);\n",
              "          const docLink = document.createElement('div');\n",
              "          docLink.innerHTML = docLinkHtml;\n",
              "          element.appendChild(docLink);\n",
              "        }\n",
              "      </script>\n",
              "    </div>\n",
              "  </div>\n",
              "  "
            ]
          },
          "metadata": {},
          "execution_count": 18
        }
      ]
    },
    {
      "cell_type": "code",
      "source": [
        "df_3lables.loc[df_3lables['target']==1,].describe()"
      ],
      "metadata": {
        "colab": {
          "base_uri": "https://localhost:8080/",
          "height": 300
        },
        "id": "2RW5nWvj3gzc",
        "outputId": "e26f79fb-f068-48fb-e931-fa56e89f08ef"
      },
      "execution_count": 19,
      "outputs": [
        {
          "output_type": "execute_result",
          "data": {
            "text/plain": [
              "            tract_id    house_num    shape_area   shape_length  shape_area_c  \\\n",
              "count     158.000000   158.000000  1.580000e+02     158.000000  1.580000e+02   \n",
              "mean   471836.968354   446.424051  1.469531e+06   91790.556330  1.363020e+06   \n",
              "std    271662.169552   316.730939  6.923325e+05   49180.845274  6.471422e+05   \n",
              "min     10100.000000     4.000000  4.918555e+04    1710.224980  4.753573e+04   \n",
              "25%    242875.000000   177.750000  1.049954e+06   56199.219219  9.650188e+05   \n",
              "50%    460550.000000   396.000000  1.491829e+06   87574.892539  1.369158e+06   \n",
              "75%    710400.000000   652.500000  1.839927e+06  126990.912489  1.706581e+06   \n",
              "max    843500.000000  1408.000000  5.068800e+06  230415.455723  4.767410e+06   \n",
              "\n",
              "       shape_length_c  target  \n",
              "count      158.000000   158.0  \n",
              "mean     84954.044865     1.0  \n",
              "std      46076.133062     0.0  \n",
              "min       1632.842690     1.0  \n",
              "25%      52217.157532     1.0  \n",
              "50%      79800.817734     1.0  \n",
              "75%     116404.930890     1.0  \n",
              "max     218683.643285     1.0  "
            ],
            "text/html": [
              "\n",
              "  <div id=\"df-fd90193e-a4a3-48dc-ad64-367b9e2e7aef\">\n",
              "    <div class=\"colab-df-container\">\n",
              "      <div>\n",
              "<style scoped>\n",
              "    .dataframe tbody tr th:only-of-type {\n",
              "        vertical-align: middle;\n",
              "    }\n",
              "\n",
              "    .dataframe tbody tr th {\n",
              "        vertical-align: top;\n",
              "    }\n",
              "\n",
              "    .dataframe thead th {\n",
              "        text-align: right;\n",
              "    }\n",
              "</style>\n",
              "<table border=\"1\" class=\"dataframe\">\n",
              "  <thead>\n",
              "    <tr style=\"text-align: right;\">\n",
              "      <th></th>\n",
              "      <th>tract_id</th>\n",
              "      <th>house_num</th>\n",
              "      <th>shape_area</th>\n",
              "      <th>shape_length</th>\n",
              "      <th>shape_area_c</th>\n",
              "      <th>shape_length_c</th>\n",
              "      <th>target</th>\n",
              "    </tr>\n",
              "  </thead>\n",
              "  <tbody>\n",
              "    <tr>\n",
              "      <th>count</th>\n",
              "      <td>158.000000</td>\n",
              "      <td>158.000000</td>\n",
              "      <td>1.580000e+02</td>\n",
              "      <td>158.000000</td>\n",
              "      <td>1.580000e+02</td>\n",
              "      <td>158.000000</td>\n",
              "      <td>158.0</td>\n",
              "    </tr>\n",
              "    <tr>\n",
              "      <th>mean</th>\n",
              "      <td>471836.968354</td>\n",
              "      <td>446.424051</td>\n",
              "      <td>1.469531e+06</td>\n",
              "      <td>91790.556330</td>\n",
              "      <td>1.363020e+06</td>\n",
              "      <td>84954.044865</td>\n",
              "      <td>1.0</td>\n",
              "    </tr>\n",
              "    <tr>\n",
              "      <th>std</th>\n",
              "      <td>271662.169552</td>\n",
              "      <td>316.730939</td>\n",
              "      <td>6.923325e+05</td>\n",
              "      <td>49180.845274</td>\n",
              "      <td>6.471422e+05</td>\n",
              "      <td>46076.133062</td>\n",
              "      <td>0.0</td>\n",
              "    </tr>\n",
              "    <tr>\n",
              "      <th>min</th>\n",
              "      <td>10100.000000</td>\n",
              "      <td>4.000000</td>\n",
              "      <td>4.918555e+04</td>\n",
              "      <td>1710.224980</td>\n",
              "      <td>4.753573e+04</td>\n",
              "      <td>1632.842690</td>\n",
              "      <td>1.0</td>\n",
              "    </tr>\n",
              "    <tr>\n",
              "      <th>25%</th>\n",
              "      <td>242875.000000</td>\n",
              "      <td>177.750000</td>\n",
              "      <td>1.049954e+06</td>\n",
              "      <td>56199.219219</td>\n",
              "      <td>9.650188e+05</td>\n",
              "      <td>52217.157532</td>\n",
              "      <td>1.0</td>\n",
              "    </tr>\n",
              "    <tr>\n",
              "      <th>50%</th>\n",
              "      <td>460550.000000</td>\n",
              "      <td>396.000000</td>\n",
              "      <td>1.491829e+06</td>\n",
              "      <td>87574.892539</td>\n",
              "      <td>1.369158e+06</td>\n",
              "      <td>79800.817734</td>\n",
              "      <td>1.0</td>\n",
              "    </tr>\n",
              "    <tr>\n",
              "      <th>75%</th>\n",
              "      <td>710400.000000</td>\n",
              "      <td>652.500000</td>\n",
              "      <td>1.839927e+06</td>\n",
              "      <td>126990.912489</td>\n",
              "      <td>1.706581e+06</td>\n",
              "      <td>116404.930890</td>\n",
              "      <td>1.0</td>\n",
              "    </tr>\n",
              "    <tr>\n",
              "      <th>max</th>\n",
              "      <td>843500.000000</td>\n",
              "      <td>1408.000000</td>\n",
              "      <td>5.068800e+06</td>\n",
              "      <td>230415.455723</td>\n",
              "      <td>4.767410e+06</td>\n",
              "      <td>218683.643285</td>\n",
              "      <td>1.0</td>\n",
              "    </tr>\n",
              "  </tbody>\n",
              "</table>\n",
              "</div>\n",
              "      <button class=\"colab-df-convert\" onclick=\"convertToInteractive('df-fd90193e-a4a3-48dc-ad64-367b9e2e7aef')\"\n",
              "              title=\"Convert this dataframe to an interactive table.\"\n",
              "              style=\"display:none;\">\n",
              "        \n",
              "  <svg xmlns=\"http://www.w3.org/2000/svg\" height=\"24px\"viewBox=\"0 0 24 24\"\n",
              "       width=\"24px\">\n",
              "    <path d=\"M0 0h24v24H0V0z\" fill=\"none\"/>\n",
              "    <path d=\"M18.56 5.44l.94 2.06.94-2.06 2.06-.94-2.06-.94-.94-2.06-.94 2.06-2.06.94zm-11 1L8.5 8.5l.94-2.06 2.06-.94-2.06-.94L8.5 2.5l-.94 2.06-2.06.94zm10 10l.94 2.06.94-2.06 2.06-.94-2.06-.94-.94-2.06-.94 2.06-2.06.94z\"/><path d=\"M17.41 7.96l-1.37-1.37c-.4-.4-.92-.59-1.43-.59-.52 0-1.04.2-1.43.59L10.3 9.45l-7.72 7.72c-.78.78-.78 2.05 0 2.83L4 21.41c.39.39.9.59 1.41.59.51 0 1.02-.2 1.41-.59l7.78-7.78 2.81-2.81c.8-.78.8-2.07 0-2.86zM5.41 20L4 18.59l7.72-7.72 1.47 1.35L5.41 20z\"/>\n",
              "  </svg>\n",
              "      </button>\n",
              "      \n",
              "  <style>\n",
              "    .colab-df-container {\n",
              "      display:flex;\n",
              "      flex-wrap:wrap;\n",
              "      gap: 12px;\n",
              "    }\n",
              "\n",
              "    .colab-df-convert {\n",
              "      background-color: #E8F0FE;\n",
              "      border: none;\n",
              "      border-radius: 50%;\n",
              "      cursor: pointer;\n",
              "      display: none;\n",
              "      fill: #1967D2;\n",
              "      height: 32px;\n",
              "      padding: 0 0 0 0;\n",
              "      width: 32px;\n",
              "    }\n",
              "\n",
              "    .colab-df-convert:hover {\n",
              "      background-color: #E2EBFA;\n",
              "      box-shadow: 0px 1px 2px rgba(60, 64, 67, 0.3), 0px 1px 3px 1px rgba(60, 64, 67, 0.15);\n",
              "      fill: #174EA6;\n",
              "    }\n",
              "\n",
              "    [theme=dark] .colab-df-convert {\n",
              "      background-color: #3B4455;\n",
              "      fill: #D2E3FC;\n",
              "    }\n",
              "\n",
              "    [theme=dark] .colab-df-convert:hover {\n",
              "      background-color: #434B5C;\n",
              "      box-shadow: 0px 1px 3px 1px rgba(0, 0, 0, 0.15);\n",
              "      filter: drop-shadow(0px 1px 2px rgba(0, 0, 0, 0.3));\n",
              "      fill: #FFFFFF;\n",
              "    }\n",
              "  </style>\n",
              "\n",
              "      <script>\n",
              "        const buttonEl =\n",
              "          document.querySelector('#df-fd90193e-a4a3-48dc-ad64-367b9e2e7aef button.colab-df-convert');\n",
              "        buttonEl.style.display =\n",
              "          google.colab.kernel.accessAllowed ? 'block' : 'none';\n",
              "\n",
              "        async function convertToInteractive(key) {\n",
              "          const element = document.querySelector('#df-fd90193e-a4a3-48dc-ad64-367b9e2e7aef');\n",
              "          const dataTable =\n",
              "            await google.colab.kernel.invokeFunction('convertToInteractive',\n",
              "                                                     [key], {});\n",
              "          if (!dataTable) return;\n",
              "\n",
              "          const docLinkHtml = 'Like what you see? Visit the ' +\n",
              "            '<a target=\"_blank\" href=https://colab.research.google.com/notebooks/data_table.ipynb>data table notebook</a>'\n",
              "            + ' to learn more about interactive tables.';\n",
              "          element.innerHTML = '';\n",
              "          dataTable['output_type'] = 'display_data';\n",
              "          await google.colab.output.renderOutput(dataTable, element);\n",
              "          const docLink = document.createElement('div');\n",
              "          docLink.innerHTML = docLinkHtml;\n",
              "          element.appendChild(docLink);\n",
              "        }\n",
              "      </script>\n",
              "    </div>\n",
              "  </div>\n",
              "  "
            ]
          },
          "metadata": {},
          "execution_count": 19
        }
      ]
    },
    {
      "cell_type": "code",
      "source": [
        "df_3lables.describe()"
      ],
      "metadata": {
        "colab": {
          "base_uri": "https://localhost:8080/",
          "height": 300
        },
        "id": "diFcl15JxnUm",
        "outputId": "92778e4e-f154-4723-c82d-99a4dc1364a3"
      },
      "execution_count": 20,
      "outputs": [
        {
          "output_type": "execute_result",
          "data": {
            "text/plain": [
              "            tract_id    house_num    shape_area   shape_length  shape_area_c  \\\n",
              "count     798.000000   797.000000  7.980000e+02     798.000000  7.980000e+02   \n",
              "mean   403945.775689   530.564617  1.509310e+06  102465.981799  1.401905e+06   \n",
              "std    276995.736725   360.958669  6.419877e+05   52032.592786  6.007288e+05   \n",
              "min     10100.000000     1.000000  0.000000e+00       0.000000  0.000000e+00   \n",
              "25%    160825.000000   224.000000  1.124318e+06   64190.545106  1.037574e+06   \n",
              "50%    351250.000000   478.000000  1.527057e+06   98135.958240  1.416067e+06   \n",
              "75%    670275.000000   796.000000  1.904823e+06  141807.066103  1.777529e+06   \n",
              "max    843900.000000  1546.000000  5.068800e+06  246453.304842  4.767410e+06   \n",
              "\n",
              "       shape_length_c      target  \n",
              "count      798.000000  798.000000  \n",
              "mean     95209.484611    0.197995  \n",
              "std      49215.929829    0.398738  \n",
              "min          0.000000    0.000000  \n",
              "25%      58460.991643    0.000000  \n",
              "50%      90516.444853    0.000000  \n",
              "75%     131492.603397    0.000000  \n",
              "max     233845.354257    1.000000  "
            ],
            "text/html": [
              "\n",
              "  <div id=\"df-62a78c3c-a94c-4fcb-bba7-0930f98e8114\">\n",
              "    <div class=\"colab-df-container\">\n",
              "      <div>\n",
              "<style scoped>\n",
              "    .dataframe tbody tr th:only-of-type {\n",
              "        vertical-align: middle;\n",
              "    }\n",
              "\n",
              "    .dataframe tbody tr th {\n",
              "        vertical-align: top;\n",
              "    }\n",
              "\n",
              "    .dataframe thead th {\n",
              "        text-align: right;\n",
              "    }\n",
              "</style>\n",
              "<table border=\"1\" class=\"dataframe\">\n",
              "  <thead>\n",
              "    <tr style=\"text-align: right;\">\n",
              "      <th></th>\n",
              "      <th>tract_id</th>\n",
              "      <th>house_num</th>\n",
              "      <th>shape_area</th>\n",
              "      <th>shape_length</th>\n",
              "      <th>shape_area_c</th>\n",
              "      <th>shape_length_c</th>\n",
              "      <th>target</th>\n",
              "    </tr>\n",
              "  </thead>\n",
              "  <tbody>\n",
              "    <tr>\n",
              "      <th>count</th>\n",
              "      <td>798.000000</td>\n",
              "      <td>797.000000</td>\n",
              "      <td>7.980000e+02</td>\n",
              "      <td>798.000000</td>\n",
              "      <td>7.980000e+02</td>\n",
              "      <td>798.000000</td>\n",
              "      <td>798.000000</td>\n",
              "    </tr>\n",
              "    <tr>\n",
              "      <th>mean</th>\n",
              "      <td>403945.775689</td>\n",
              "      <td>530.564617</td>\n",
              "      <td>1.509310e+06</td>\n",
              "      <td>102465.981799</td>\n",
              "      <td>1.401905e+06</td>\n",
              "      <td>95209.484611</td>\n",
              "      <td>0.197995</td>\n",
              "    </tr>\n",
              "    <tr>\n",
              "      <th>std</th>\n",
              "      <td>276995.736725</td>\n",
              "      <td>360.958669</td>\n",
              "      <td>6.419877e+05</td>\n",
              "      <td>52032.592786</td>\n",
              "      <td>6.007288e+05</td>\n",
              "      <td>49215.929829</td>\n",
              "      <td>0.398738</td>\n",
              "    </tr>\n",
              "    <tr>\n",
              "      <th>min</th>\n",
              "      <td>10100.000000</td>\n",
              "      <td>1.000000</td>\n",
              "      <td>0.000000e+00</td>\n",
              "      <td>0.000000</td>\n",
              "      <td>0.000000e+00</td>\n",
              "      <td>0.000000</td>\n",
              "      <td>0.000000</td>\n",
              "    </tr>\n",
              "    <tr>\n",
              "      <th>25%</th>\n",
              "      <td>160825.000000</td>\n",
              "      <td>224.000000</td>\n",
              "      <td>1.124318e+06</td>\n",
              "      <td>64190.545106</td>\n",
              "      <td>1.037574e+06</td>\n",
              "      <td>58460.991643</td>\n",
              "      <td>0.000000</td>\n",
              "    </tr>\n",
              "    <tr>\n",
              "      <th>50%</th>\n",
              "      <td>351250.000000</td>\n",
              "      <td>478.000000</td>\n",
              "      <td>1.527057e+06</td>\n",
              "      <td>98135.958240</td>\n",
              "      <td>1.416067e+06</td>\n",
              "      <td>90516.444853</td>\n",
              "      <td>0.000000</td>\n",
              "    </tr>\n",
              "    <tr>\n",
              "      <th>75%</th>\n",
              "      <td>670275.000000</td>\n",
              "      <td>796.000000</td>\n",
              "      <td>1.904823e+06</td>\n",
              "      <td>141807.066103</td>\n",
              "      <td>1.777529e+06</td>\n",
              "      <td>131492.603397</td>\n",
              "      <td>0.000000</td>\n",
              "    </tr>\n",
              "    <tr>\n",
              "      <th>max</th>\n",
              "      <td>843900.000000</td>\n",
              "      <td>1546.000000</td>\n",
              "      <td>5.068800e+06</td>\n",
              "      <td>246453.304842</td>\n",
              "      <td>4.767410e+06</td>\n",
              "      <td>233845.354257</td>\n",
              "      <td>1.000000</td>\n",
              "    </tr>\n",
              "  </tbody>\n",
              "</table>\n",
              "</div>\n",
              "      <button class=\"colab-df-convert\" onclick=\"convertToInteractive('df-62a78c3c-a94c-4fcb-bba7-0930f98e8114')\"\n",
              "              title=\"Convert this dataframe to an interactive table.\"\n",
              "              style=\"display:none;\">\n",
              "        \n",
              "  <svg xmlns=\"http://www.w3.org/2000/svg\" height=\"24px\"viewBox=\"0 0 24 24\"\n",
              "       width=\"24px\">\n",
              "    <path d=\"M0 0h24v24H0V0z\" fill=\"none\"/>\n",
              "    <path d=\"M18.56 5.44l.94 2.06.94-2.06 2.06-.94-2.06-.94-.94-2.06-.94 2.06-2.06.94zm-11 1L8.5 8.5l.94-2.06 2.06-.94-2.06-.94L8.5 2.5l-.94 2.06-2.06.94zm10 10l.94 2.06.94-2.06 2.06-.94-2.06-.94-.94-2.06-.94 2.06-2.06.94z\"/><path d=\"M17.41 7.96l-1.37-1.37c-.4-.4-.92-.59-1.43-.59-.52 0-1.04.2-1.43.59L10.3 9.45l-7.72 7.72c-.78.78-.78 2.05 0 2.83L4 21.41c.39.39.9.59 1.41.59.51 0 1.02-.2 1.41-.59l7.78-7.78 2.81-2.81c.8-.78.8-2.07 0-2.86zM5.41 20L4 18.59l7.72-7.72 1.47 1.35L5.41 20z\"/>\n",
              "  </svg>\n",
              "      </button>\n",
              "      \n",
              "  <style>\n",
              "    .colab-df-container {\n",
              "      display:flex;\n",
              "      flex-wrap:wrap;\n",
              "      gap: 12px;\n",
              "    }\n",
              "\n",
              "    .colab-df-convert {\n",
              "      background-color: #E8F0FE;\n",
              "      border: none;\n",
              "      border-radius: 50%;\n",
              "      cursor: pointer;\n",
              "      display: none;\n",
              "      fill: #1967D2;\n",
              "      height: 32px;\n",
              "      padding: 0 0 0 0;\n",
              "      width: 32px;\n",
              "    }\n",
              "\n",
              "    .colab-df-convert:hover {\n",
              "      background-color: #E2EBFA;\n",
              "      box-shadow: 0px 1px 2px rgba(60, 64, 67, 0.3), 0px 1px 3px 1px rgba(60, 64, 67, 0.15);\n",
              "      fill: #174EA6;\n",
              "    }\n",
              "\n",
              "    [theme=dark] .colab-df-convert {\n",
              "      background-color: #3B4455;\n",
              "      fill: #D2E3FC;\n",
              "    }\n",
              "\n",
              "    [theme=dark] .colab-df-convert:hover {\n",
              "      background-color: #434B5C;\n",
              "      box-shadow: 0px 1px 3px 1px rgba(0, 0, 0, 0.15);\n",
              "      filter: drop-shadow(0px 1px 2px rgba(0, 0, 0, 0.3));\n",
              "      fill: #FFFFFF;\n",
              "    }\n",
              "  </style>\n",
              "\n",
              "      <script>\n",
              "        const buttonEl =\n",
              "          document.querySelector('#df-62a78c3c-a94c-4fcb-bba7-0930f98e8114 button.colab-df-convert');\n",
              "        buttonEl.style.display =\n",
              "          google.colab.kernel.accessAllowed ? 'block' : 'none';\n",
              "\n",
              "        async function convertToInteractive(key) {\n",
              "          const element = document.querySelector('#df-62a78c3c-a94c-4fcb-bba7-0930f98e8114');\n",
              "          const dataTable =\n",
              "            await google.colab.kernel.invokeFunction('convertToInteractive',\n",
              "                                                     [key], {});\n",
              "          if (!dataTable) return;\n",
              "\n",
              "          const docLinkHtml = 'Like what you see? Visit the ' +\n",
              "            '<a target=\"_blank\" href=https://colab.research.google.com/notebooks/data_table.ipynb>data table notebook</a>'\n",
              "            + ' to learn more about interactive tables.';\n",
              "          element.innerHTML = '';\n",
              "          dataTable['output_type'] = 'display_data';\n",
              "          await google.colab.output.renderOutput(dataTable, element);\n",
              "          const docLink = document.createElement('div');\n",
              "          docLink.innerHTML = docLinkHtml;\n",
              "          element.appendChild(docLink);\n",
              "        }\n",
              "      </script>\n",
              "    </div>\n",
              "  </div>\n",
              "  "
            ]
          },
          "metadata": {},
          "execution_count": 20
        }
      ]
    },
    {
      "cell_type": "code",
      "source": [
        "Counter(df_3lables.target)"
      ],
      "metadata": {
        "colab": {
          "base_uri": "https://localhost:8080/"
        },
        "id": "kYFbm1DuaVJe",
        "outputId": "0a0d292c-2637-4cfa-95e6-45790f8ede9c"
      },
      "execution_count": 26,
      "outputs": [
        {
          "output_type": "execute_result",
          "data": {
            "text/plain": [
              "Counter({0: 640, 1: 158})"
            ]
          },
          "metadata": {},
          "execution_count": 26
        }
      ]
    },
    {
      "cell_type": "code",
      "source": [
        "# Keep the images with more than 30 houses.\n",
        "df_3labels_modifiednum = df_3lables.loc[df_3lables.house_num>30,]"
      ],
      "metadata": {
        "id": "yRP74kI_aVG8"
      },
      "execution_count": 27,
      "outputs": []
    },
    {
      "cell_type": "code",
      "source": [
        "# df_3labels_modifiednum = df_3lables.loc[df_3lables.house_num>100,]"
      ],
      "metadata": {
        "id": "9srGEkP5x3Xi"
      },
      "execution_count": 17,
      "outputs": []
    },
    {
      "cell_type": "code",
      "source": [
        "# df_3labels_modifiednum.to_csv('3labels_modifiednum1.csv',index=False)"
      ],
      "metadata": {
        "id": "xj5UNWqgyCNX"
      },
      "execution_count": null,
      "outputs": []
    },
    {
      "cell_type": "code",
      "source": [
        "Counter(df_3labels_modifiednum.target)"
      ],
      "metadata": {
        "colab": {
          "base_uri": "https://localhost:8080/"
        },
        "id": "0GusrnMKbl-K",
        "outputId": "403100cb-a7b2-46ee-a822-9021e1c76fb2"
      },
      "execution_count": 28,
      "outputs": [
        {
          "output_type": "execute_result",
          "data": {
            "text/plain": [
              "Counter({0: 606, 1: 152})"
            ]
          },
          "metadata": {},
          "execution_count": 28
        }
      ]
    },
    {
      "cell_type": "code",
      "source": [
        "df_2labels_modifiednum = df_3labels_modifiednum"
      ],
      "metadata": {
        "id": "xlR_uMPjtu_A"
      },
      "execution_count": 29,
      "outputs": []
    },
    {
      "cell_type": "code",
      "source": [
        "Counter(df_2labels_modifiednum.target)"
      ],
      "metadata": {
        "colab": {
          "base_uri": "https://localhost:8080/"
        },
        "id": "81PazEGhwP1K",
        "outputId": "ec914cb7-8cb3-4209-90d2-fb28711451ba"
      },
      "execution_count": 30,
      "outputs": [
        {
          "output_type": "execute_result",
          "data": {
            "text/plain": [
              "Counter({0: 606, 1: 152})"
            ]
          },
          "metadata": {},
          "execution_count": 30
        }
      ]
    },
    {
      "cell_type": "code",
      "source": [
        "X_data_2labels_modifiednum = df_2labels_modifiednum[['house_num','shape_area','shape_length']]\n",
        "y_data_2labels_modifiednum = df_2labels_modifiednum['target']\n",
        "X_train_2labels_modifiednum, X_test_2labels_modifiednum, y_train_2labels_modifiednum, y_test_2labels_modifiednum = train_test_split(X_data_2labels_modifiednum,\n",
        "                                                            y_data_2labels_modifiednum,\n",
        "                                                            test_size=0.2,\n",
        "                                                            random_state=42)"
      ],
      "metadata": {
        "id": "_uy30VVOaVEq"
      },
      "execution_count": 31,
      "outputs": []
    },
    {
      "cell_type": "code",
      "source": [
        "# PCA\n",
        "def plot_pca(X, y, perplexity=30, colormap=plt.cm.Paired):\n",
        "    plt.figure(figsize=(8, 6))\n",
        "\n",
        "    # clean the figure\n",
        "    plt.clf()\n",
        "\n",
        "    pca = PCA(random_state=42,n_components=2)\n",
        "    X_embedded = pca.fit_transform(X)\n",
        "    plt.scatter(X_embedded[:, 0], X_embedded[:, 1], c=y, cmap=colormap,alpha=0.7)\n",
        "    plt.title(\"PCA plot\")\n",
        "    plt.xticks()\n",
        "    plt.yticks()\n",
        "\n",
        "    plt.show()"
      ],
      "metadata": {
        "id": "5aIS_9wQlTy2"
      },
      "execution_count": 32,
      "outputs": []
    },
    {
      "cell_type": "code",
      "source": [
        "plot_pca(X_data_2labels_modifiednum, y_data_2labels_modifiednum, perplexity=50)"
      ],
      "metadata": {
        "colab": {
          "base_uri": "https://localhost:8080/",
          "height": 403
        },
        "id": "MwiM6_s8lUrC",
        "outputId": "90bc0c79-026c-45e7-a9b5-795865674510"
      },
      "execution_count": 33,
      "outputs": [
        {
          "output_type": "display_data",
          "data": {
            "text/plain": [
              "<Figure size 576x432 with 1 Axes>"
            ],
            "image/png": "[encoded data removed]"
          },
          "metadata": {
            "needs_background": "light"
          }
        }
      ]
    },
    {
      "cell_type": "code",
      "source": [
        "# tSNE\n",
        "def plot_tsne(X, y, perplexity=30, colormap=plt.cm.Paired):\n",
        "    plt.figure(figsize=(8, 6))\n",
        "\n",
        "    # clean the figure\n",
        "    plt.clf()\n",
        "\n",
        "    tsne = TSNE(random_state=42)\n",
        "    X_embedded = tsne.fit_transform(X)\n",
        "    plt.scatter(X_embedded[:, 0], X_embedded[:, 1], c=y, cmap=colormap,alpha=0.7)\n",
        "    plt.title(\"tSNE plot\")\n",
        "    plt.xticks(())\n",
        "    plt.yticks(())\n",
        "\n",
        "    plt.show()"
      ],
      "metadata": {
        "id": "sMEUHhcWlwiU"
      },
      "execution_count": 34,
      "outputs": []
    },
    {
      "cell_type": "code",
      "source": [
        "plot_tsne(X_data_2labels_modifiednum, y_data_2labels_modifiednum, perplexity=50)"
      ],
      "metadata": {
        "colab": {
          "base_uri": "https://localhost:8080/",
          "height": 449
        },
        "id": "QsBqzjd2lxVO",
        "outputId": "0ac05ea1-fef2-463a-a96d-1e220e3b839c"
      },
      "execution_count": 35,
      "outputs": [
        {
          "output_type": "stream",
          "name": "stderr",
          "text": [
            "/usr/local/lib/python3.7/dist-packages/sklearn/manifold/_t_sne.py:783: FutureWarning: The default initialization in TSNE will change from 'random' to 'pca' in 1.2.\n",
            "  FutureWarning,\n",
            "/usr/local/lib/python3.7/dist-packages/sklearn/manifold/_t_sne.py:793: FutureWarning: The default learning rate in TSNE will change from 200.0 to 'auto' in 1.2.\n",
            "  FutureWarning,\n"
          ]
        },
        {
          "output_type": "display_data",
          "data": {
            "text/plain": [
              "<Figure size 576x432 with 1 Axes>"
            ],
            "image/png": "[encoded data removed]"
          },
          "metadata": {}
        }
      ]
    },
    {
      "cell_type": "markdown",
      "source": [
        "## Keras model"
      ],
      "metadata": {
        "id": "piSNFQxjb2JY"
      }
    },
    {
      "cell_type": "code",
      "source": [
        "from keras.models import Sequential\n",
        "from keras.layers import Dense\n",
        "import keras\n",
        "import tensorflow as tf\n",
        "import numpy as np\n",
        "import numpy as np\n",
        "\n",
        "from os import path\n",
        "\n",
        "\n",
        "import matplotlib.pyplot as plt\n",
        "\n",
        "#scikit-learn related imports\n",
        "import sklearn\n",
        "from sklearn.datasets import load_boston\n",
        "from sklearn.model_selection import train_test_split\n",
        "from sklearn.metrics import mean_squared_error\n",
        "\n",
        "# pytorch relates imports\n",
        "import torch\n",
        "import torch.nn as nn\n",
        "import torch.optim as optim\n",
        "\n",
        "import torch.nn.functional as F"
      ],
      "metadata": {
        "id": "k8K93m3Eumrn"
      },
      "execution_count": 36,
      "outputs": []
    },
    {
      "cell_type": "code",
      "source": [
        "keras_model = Sequential()\n",
        "keras_model.add(Dense(200, input_dim=3, activation='relu'))\n",
        "layers.BatchNormalization(), # add batch_normalization layer\n",
        "keras_model.add(Dense(200, activation='relu'))\n",
        "keras_model.add(Dense(200, activation='relu'))\n",
        "layers.BatchNormalization(), # add batch_normalization layer\n",
        "keras_model.add(Dense(200, activation='relu'))\n",
        "keras_model.add(Dense(200, activation='relu'))\n",
        "keras_model.add(Dense(1, activation='sigmoid')) # since it is a binary task, we use sigmoid here.\n",
        "keras_model.compile(loss='binary_crossentropy',metrics=['accuracy'],optimizer=\"adam\")"
      ],
      "metadata": {
        "id": "ohGqVab04qCX"
      },
      "execution_count": 68,
      "outputs": []
    },
    {
      "cell_type": "code",
      "source": [
        "y_train_2labels_modifiednum"
      ],
      "metadata": {
        "colab": {
          "base_uri": "https://localhost:8080/"
        },
        "id": "WJh_92YEGRiG",
        "outputId": "aa6a4bca-19f1-4c31-8c7c-642b87e6edab"
      },
      "execution_count": 41,
      "outputs": [
        {
          "output_type": "execute_result",
          "data": {
            "text/plain": [
              "219    0\n",
              "70     1\n",
              "653    0\n",
              "135    1\n",
              "45     1\n",
              "      ..\n",
              "72     1\n",
              "110    1\n",
              "278    0\n",
              "454    0\n",
              "106    1\n",
              "Name: target, Length: 606, dtype: int64"
            ]
          },
          "metadata": {},
          "execution_count": 41
        }
      ]
    },
    {
      "cell_type": "code",
      "source": [
        "history = keras_model.fit(X_train_2labels_modifiednum, y_train_2labels_modifiednum, epochs=200)"
      ],
      "metadata": {
        "colab": {
          "base_uri": "https://localhost:8080/"
        },
        "id": "j6GwAY-2cx88",
        "outputId": "73aab3c5-f5b2-4a80-9c99-080b764eafa3"
      },
      "execution_count": 69,
      "outputs": [
        {
          "output_type": "stream",
          "name": "stdout",
          "text": [
            "Epoch 1/200\n",
            "19/19 [==============================] - 1s 3ms/step - loss: 9633.2148 - accuracy: 0.7178\n",
            "Epoch 2/200\n",
            "19/19 [==============================] - 0s 3ms/step - loss: 1582.2120 - accuracy: 0.6518\n",
            "Epoch 3/200\n",
            "19/19 [==============================] - 0s 3ms/step - loss: 726.2224 - accuracy: 0.6799\n",
            "Epoch 4/200\n",
            "19/19 [==============================] - 0s 3ms/step - loss: 469.9460 - accuracy: 0.6947\n",
            "Epoch 5/200\n",
            "19/19 [==============================] - 0s 3ms/step - loss: 720.5345 - accuracy: 0.6700\n",
            "Epoch 6/200\n",
            "19/19 [==============================] - 0s 3ms/step - loss: 744.4142 - accuracy: 0.7079\n",
            "Epoch 7/200\n",
            "19/19 [==============================] - 0s 3ms/step - loss: 743.1093 - accuracy: 0.6650\n",
            "Epoch 8/200\n",
            "19/19 [==============================] - 0s 3ms/step - loss: 644.3594 - accuracy: 0.6947\n",
            "Epoch 9/200\n",
            "19/19 [==============================] - 0s 3ms/step - loss: 515.4426 - accuracy: 0.7096\n",
            "Epoch 10/200\n",
            "19/19 [==============================] - 0s 3ms/step - loss: 741.4274 - accuracy: 0.6914\n",
            "Epoch 11/200\n",
            "19/19 [==============================] - 0s 3ms/step - loss: 251.2541 - accuracy: 0.6848\n",
            "Epoch 12/200\n",
            "19/19 [==============================] - 0s 3ms/step - loss: 344.9804 - accuracy: 0.6634\n",
            "Epoch 13/200\n",
            "19/19 [==============================] - 0s 3ms/step - loss: 170.2496 - accuracy: 0.6898\n",
            "Epoch 14/200\n",
            "19/19 [==============================] - 0s 3ms/step - loss: 126.2766 - accuracy: 0.7013\n",
            "Epoch 15/200\n",
            "19/19 [==============================] - 0s 3ms/step - loss: 48.0156 - accuracy: 0.6980\n",
            "Epoch 16/200\n",
            "19/19 [==============================] - 0s 3ms/step - loss: 151.6646 - accuracy: 0.7178\n",
            "Epoch 17/200\n",
            "19/19 [==============================] - 0s 3ms/step - loss: 199.4766 - accuracy: 0.6914\n",
            "Epoch 18/200\n",
            "19/19 [==============================] - 0s 3ms/step - loss: 57.2240 - accuracy: 0.6535\n",
            "Epoch 19/200\n",
            "19/19 [==============================] - 0s 3ms/step - loss: 79.6146 - accuracy: 0.7376\n",
            "Epoch 20/200\n",
            "19/19 [==============================] - 0s 3ms/step - loss: 32.7685 - accuracy: 0.7211\n",
            "Epoch 21/200\n",
            "19/19 [==============================] - 0s 3ms/step - loss: 31.9255 - accuracy: 0.6865\n",
            "Epoch 22/200\n",
            "19/19 [==============================] - 0s 3ms/step - loss: 34.8342 - accuracy: 0.6799\n",
            "Epoch 23/200\n",
            "19/19 [==============================] - 0s 3ms/step - loss: 58.7671 - accuracy: 0.7013\n",
            "Epoch 24/200\n",
            "19/19 [==============================] - 0s 3ms/step - loss: 19.6665 - accuracy: 0.6700\n",
            "Epoch 25/200\n",
            "19/19 [==============================] - 0s 3ms/step - loss: 30.8400 - accuracy: 0.7079\n",
            "Epoch 26/200\n",
            "19/19 [==============================] - 0s 3ms/step - loss: 24.8550 - accuracy: 0.6601\n",
            "Epoch 27/200\n",
            "19/19 [==============================] - 0s 3ms/step - loss: 55.1500 - accuracy: 0.6815\n",
            "Epoch 28/200\n",
            "19/19 [==============================] - 0s 3ms/step - loss: 30.9002 - accuracy: 0.7079\n",
            "Epoch 29/200\n",
            "19/19 [==============================] - 0s 3ms/step - loss: 23.2580 - accuracy: 0.6749\n",
            "Epoch 30/200\n",
            "19/19 [==============================] - 0s 3ms/step - loss: 34.7958 - accuracy: 0.7178\n",
            "Epoch 31/200\n",
            "19/19 [==============================] - 0s 3ms/step - loss: 25.7420 - accuracy: 0.6749\n",
            "Epoch 32/200\n",
            "19/19 [==============================] - 0s 3ms/step - loss: 108.5717 - accuracy: 0.6782\n",
            "Epoch 33/200\n",
            "19/19 [==============================] - 0s 3ms/step - loss: 75.4642 - accuracy: 0.7030\n",
            "Epoch 34/200\n",
            "19/19 [==============================] - 0s 3ms/step - loss: 76.3553 - accuracy: 0.6815\n",
            "Epoch 35/200\n",
            "19/19 [==============================] - 0s 3ms/step - loss: 48.2829 - accuracy: 0.7030\n",
            "Epoch 36/200\n",
            "19/19 [==============================] - 0s 3ms/step - loss: 45.9617 - accuracy: 0.7063\n",
            "Epoch 37/200\n",
            "19/19 [==============================] - 0s 3ms/step - loss: 55.3847 - accuracy: 0.6799\n",
            "Epoch 38/200\n",
            "19/19 [==============================] - 0s 3ms/step - loss: 77.6735 - accuracy: 0.7046\n",
            "Epoch 39/200\n",
            "19/19 [==============================] - 0s 3ms/step - loss: 93.5664 - accuracy: 0.6898\n",
            "Epoch 40/200\n",
            "19/19 [==============================] - 0s 3ms/step - loss: 123.7813 - accuracy: 0.6518\n",
            "Epoch 41/200\n",
            "19/19 [==============================] - 0s 3ms/step - loss: 69.1937 - accuracy: 0.6716\n",
            "Epoch 42/200\n",
            "19/19 [==============================] - 0s 3ms/step - loss: 37.4808 - accuracy: 0.6749\n",
            "Epoch 43/200\n",
            "19/19 [==============================] - 0s 3ms/step - loss: 33.8163 - accuracy: 0.6634\n",
            "Epoch 44/200\n",
            "19/19 [==============================] - 0s 3ms/step - loss: 40.8253 - accuracy: 0.6914\n",
            "Epoch 45/200\n",
            "19/19 [==============================] - 0s 3ms/step - loss: 29.5038 - accuracy: 0.7112\n",
            "Epoch 46/200\n",
            "19/19 [==============================] - 0s 3ms/step - loss: 25.8050 - accuracy: 0.6815\n",
            "Epoch 47/200\n",
            "19/19 [==============================] - 0s 3ms/step - loss: 25.1782 - accuracy: 0.7211\n",
            "Epoch 48/200\n",
            "19/19 [==============================] - 0s 3ms/step - loss: 17.2717 - accuracy: 0.7079\n",
            "Epoch 49/200\n",
            "19/19 [==============================] - 0s 3ms/step - loss: 14.3573 - accuracy: 0.6931\n",
            "Epoch 50/200\n",
            "19/19 [==============================] - 0s 3ms/step - loss: 27.9997 - accuracy: 0.7376\n",
            "Epoch 51/200\n",
            "19/19 [==============================] - 0s 3ms/step - loss: 19.5189 - accuracy: 0.6815\n",
            "Epoch 52/200\n",
            "19/19 [==============================] - 0s 3ms/step - loss: 16.8151 - accuracy: 0.7013\n",
            "Epoch 53/200\n",
            "19/19 [==============================] - 0s 3ms/step - loss: 21.6758 - accuracy: 0.7079\n",
            "Epoch 54/200\n",
            "19/19 [==============================] - 0s 3ms/step - loss: 14.9450 - accuracy: 0.7211\n",
            "Epoch 55/200\n",
            "19/19 [==============================] - 0s 3ms/step - loss: 9.6889 - accuracy: 0.7261\n",
            "Epoch 56/200\n",
            "19/19 [==============================] - 0s 3ms/step - loss: 12.8653 - accuracy: 0.6551\n",
            "Epoch 57/200\n",
            "19/19 [==============================] - 0s 3ms/step - loss: 14.7956 - accuracy: 0.7096\n",
            "Epoch 58/200\n",
            "19/19 [==============================] - 0s 3ms/step - loss: 5.3180 - accuracy: 0.6964\n",
            "Epoch 59/200\n",
            "19/19 [==============================] - 0s 3ms/step - loss: 5.9350 - accuracy: 0.7030\n",
            "Epoch 60/200\n",
            "19/19 [==============================] - 0s 3ms/step - loss: 8.8472 - accuracy: 0.6914\n",
            "Epoch 61/200\n",
            "19/19 [==============================] - 0s 3ms/step - loss: 6.2766 - accuracy: 0.6733\n",
            "Epoch 62/200\n",
            "19/19 [==============================] - 0s 3ms/step - loss: 14.0411 - accuracy: 0.7393\n",
            "Epoch 63/200\n",
            "19/19 [==============================] - 0s 3ms/step - loss: 10.4921 - accuracy: 0.6518\n",
            "Epoch 64/200\n",
            "19/19 [==============================] - 0s 3ms/step - loss: 11.6777 - accuracy: 0.7178\n",
            "Epoch 65/200\n",
            "19/19 [==============================] - 0s 3ms/step - loss: 23.3680 - accuracy: 0.7112\n",
            "Epoch 66/200\n",
            "19/19 [==============================] - 0s 3ms/step - loss: 25.9481 - accuracy: 0.6617\n",
            "Epoch 67/200\n",
            "19/19 [==============================] - 0s 3ms/step - loss: 35.4748 - accuracy: 0.7063\n",
            "Epoch 68/200\n",
            "19/19 [==============================] - 0s 3ms/step - loss: 99.6984 - accuracy: 0.6815\n",
            "Epoch 69/200\n",
            "19/19 [==============================] - 0s 3ms/step - loss: 65.4954 - accuracy: 0.6947\n",
            "Epoch 70/200\n",
            "19/19 [==============================] - 0s 3ms/step - loss: 33.9675 - accuracy: 0.6997\n",
            "Epoch 71/200\n",
            "19/19 [==============================] - 0s 3ms/step - loss: 47.6029 - accuracy: 0.6667\n",
            "Epoch 72/200\n",
            "19/19 [==============================] - 0s 3ms/step - loss: 28.0405 - accuracy: 0.7013\n",
            "Epoch 73/200\n",
            "19/19 [==============================] - 0s 3ms/step - loss: 30.2674 - accuracy: 0.7030\n",
            "Epoch 74/200\n",
            "19/19 [==============================] - 0s 3ms/step - loss: 46.4213 - accuracy: 0.6419\n",
            "Epoch 75/200\n",
            "19/19 [==============================] - 0s 3ms/step - loss: 41.4907 - accuracy: 0.7178\n",
            "Epoch 76/200\n",
            "19/19 [==============================] - 0s 3ms/step - loss: 15.8900 - accuracy: 0.6766\n",
            "Epoch 77/200\n",
            "19/19 [==============================] - 0s 3ms/step - loss: 32.1005 - accuracy: 0.6716\n",
            "Epoch 78/200\n",
            "19/19 [==============================] - 0s 3ms/step - loss: 29.1983 - accuracy: 0.6980\n",
            "Epoch 79/200\n",
            "19/19 [==============================] - 0s 3ms/step - loss: 11.7046 - accuracy: 0.6815\n",
            "Epoch 80/200\n",
            "19/19 [==============================] - 0s 3ms/step - loss: 11.4029 - accuracy: 0.7013\n",
            "Epoch 81/200\n",
            "19/19 [==============================] - 0s 3ms/step - loss: 25.5420 - accuracy: 0.6419\n",
            "Epoch 82/200\n",
            "19/19 [==============================] - 0s 3ms/step - loss: 16.9964 - accuracy: 0.7277\n",
            "Epoch 83/200\n",
            "19/19 [==============================] - 0s 3ms/step - loss: 17.1607 - accuracy: 0.6700\n",
            "Epoch 84/200\n",
            "19/19 [==============================] - 0s 3ms/step - loss: 37.7468 - accuracy: 0.6997\n",
            "Epoch 85/200\n",
            "19/19 [==============================] - 0s 3ms/step - loss: 26.0900 - accuracy: 0.7129\n",
            "Epoch 86/200\n",
            "19/19 [==============================] - 0s 3ms/step - loss: 25.3055 - accuracy: 0.6782\n",
            "Epoch 87/200\n",
            "19/19 [==============================] - 0s 3ms/step - loss: 20.3735 - accuracy: 0.7145\n",
            "Epoch 88/200\n",
            "19/19 [==============================] - 0s 3ms/step - loss: 18.6318 - accuracy: 0.6634\n",
            "Epoch 89/200\n",
            "19/19 [==============================] - 0s 3ms/step - loss: 26.1740 - accuracy: 0.7442\n",
            "Epoch 90/200\n",
            "19/19 [==============================] - 0s 3ms/step - loss: 8.1551 - accuracy: 0.6436\n",
            "Epoch 91/200\n",
            "19/19 [==============================] - 0s 3ms/step - loss: 12.3495 - accuracy: 0.7079\n",
            "Epoch 92/200\n",
            "19/19 [==============================] - 0s 3ms/step - loss: 6.6946 - accuracy: 0.6980\n",
            "Epoch 93/200\n",
            "19/19 [==============================] - 0s 3ms/step - loss: 6.3937 - accuracy: 0.6601\n",
            "Epoch 94/200\n",
            "19/19 [==============================] - 0s 3ms/step - loss: 9.8219 - accuracy: 0.6832\n",
            "Epoch 95/200\n",
            "19/19 [==============================] - 0s 3ms/step - loss: 7.0974 - accuracy: 0.6766\n",
            "Epoch 96/200\n",
            "19/19 [==============================] - 0s 3ms/step - loss: 7.2484 - accuracy: 0.6964\n",
            "Epoch 97/200\n",
            "19/19 [==============================] - 0s 3ms/step - loss: 6.5589 - accuracy: 0.7046\n",
            "Epoch 98/200\n",
            "19/19 [==============================] - 0s 3ms/step - loss: 5.2645 - accuracy: 0.6716\n",
            "Epoch 99/200\n",
            "19/19 [==============================] - 0s 3ms/step - loss: 6.7978 - accuracy: 0.6980\n",
            "Epoch 100/200\n",
            "19/19 [==============================] - 0s 3ms/step - loss: 11.9931 - accuracy: 0.6980\n",
            "Epoch 101/200\n",
            "19/19 [==============================] - 0s 3ms/step - loss: 9.3421 - accuracy: 0.6898\n",
            "Epoch 102/200\n",
            "19/19 [==============================] - 0s 3ms/step - loss: 11.4800 - accuracy: 0.7228\n",
            "Epoch 103/200\n",
            "19/19 [==============================] - 0s 3ms/step - loss: 14.8328 - accuracy: 0.6848\n",
            "Epoch 104/200\n",
            "19/19 [==============================] - 0s 3ms/step - loss: 13.6186 - accuracy: 0.6650\n",
            "Epoch 105/200\n",
            "19/19 [==============================] - 0s 3ms/step - loss: 9.6822 - accuracy: 0.6964\n",
            "Epoch 106/200\n",
            "19/19 [==============================] - 0s 3ms/step - loss: 7.9111 - accuracy: 0.6931\n",
            "Epoch 107/200\n",
            "19/19 [==============================] - 0s 3ms/step - loss: 6.5950 - accuracy: 0.7096\n",
            "Epoch 108/200\n",
            "19/19 [==============================] - 0s 3ms/step - loss: 3.8248 - accuracy: 0.6931\n",
            "Epoch 109/200\n",
            "19/19 [==============================] - 0s 3ms/step - loss: 10.4787 - accuracy: 0.7277\n",
            "Epoch 110/200\n",
            "19/19 [==============================] - 0s 3ms/step - loss: 9.8716 - accuracy: 0.6782\n",
            "Epoch 111/200\n",
            "19/19 [==============================] - 0s 3ms/step - loss: 2.4405 - accuracy: 0.6469\n",
            "Epoch 112/200\n",
            "19/19 [==============================] - 0s 3ms/step - loss: 1.1520 - accuracy: 0.6832\n",
            "Epoch 113/200\n",
            "19/19 [==============================] - 0s 3ms/step - loss: 1.1813 - accuracy: 0.7112\n",
            "Epoch 114/200\n",
            "19/19 [==============================] - 0s 3ms/step - loss: 1.6377 - accuracy: 0.7195\n",
            "Epoch 115/200\n",
            "19/19 [==============================] - 0s 3ms/step - loss: 5.1603 - accuracy: 0.6914\n",
            "Epoch 116/200\n",
            "19/19 [==============================] - 0s 3ms/step - loss: 4.0924 - accuracy: 0.6766\n",
            "Epoch 117/200\n",
            "19/19 [==============================] - 0s 3ms/step - loss: 5.1895 - accuracy: 0.6865\n",
            "Epoch 118/200\n",
            "19/19 [==============================] - 0s 3ms/step - loss: 4.6220 - accuracy: 0.7030\n",
            "Epoch 119/200\n",
            "19/19 [==============================] - 0s 3ms/step - loss: 5.5068 - accuracy: 0.6815\n",
            "Epoch 120/200\n",
            "19/19 [==============================] - 0s 3ms/step - loss: 10.3204 - accuracy: 0.6997\n",
            "Epoch 121/200\n",
            "19/19 [==============================] - 0s 3ms/step - loss: 8.3074 - accuracy: 0.6914\n",
            "Epoch 122/200\n",
            "19/19 [==============================] - 0s 3ms/step - loss: 23.4036 - accuracy: 0.6898\n",
            "Epoch 123/200\n",
            "19/19 [==============================] - 0s 3ms/step - loss: 10.3166 - accuracy: 0.7129\n",
            "Epoch 124/200\n",
            "19/19 [==============================] - 0s 3ms/step - loss: 12.5931 - accuracy: 0.6832\n",
            "Epoch 125/200\n",
            "19/19 [==============================] - 0s 3ms/step - loss: 4.4215 - accuracy: 0.6749\n",
            "Epoch 126/200\n",
            "19/19 [==============================] - 0s 3ms/step - loss: 4.9421 - accuracy: 0.7030\n",
            "Epoch 127/200\n",
            "19/19 [==============================] - 0s 3ms/step - loss: 9.1296 - accuracy: 0.6617\n",
            "Epoch 128/200\n",
            "19/19 [==============================] - 0s 3ms/step - loss: 6.9299 - accuracy: 0.6914\n",
            "Epoch 129/200\n",
            "19/19 [==============================] - 0s 3ms/step - loss: 5.3592 - accuracy: 0.6881\n",
            "Epoch 130/200\n",
            "19/19 [==============================] - 0s 3ms/step - loss: 11.7868 - accuracy: 0.7013\n",
            "Epoch 131/200\n",
            "19/19 [==============================] - 0s 3ms/step - loss: 75.2986 - accuracy: 0.6667\n",
            "Epoch 132/200\n",
            "19/19 [==============================] - 0s 3ms/step - loss: 186.8721 - accuracy: 0.6749\n",
            "Epoch 133/200\n",
            "19/19 [==============================] - 0s 3ms/step - loss: 111.5950 - accuracy: 0.6914\n",
            "Epoch 134/200\n",
            "19/19 [==============================] - 0s 3ms/step - loss: 151.0220 - accuracy: 0.6551\n",
            "Epoch 135/200\n",
            "19/19 [==============================] - 0s 3ms/step - loss: 70.2406 - accuracy: 0.6848\n",
            "Epoch 136/200\n",
            "19/19 [==============================] - 0s 3ms/step - loss: 26.1905 - accuracy: 0.6881\n",
            "Epoch 137/200\n",
            "19/19 [==============================] - 0s 3ms/step - loss: 11.6669 - accuracy: 0.7129\n",
            "Epoch 138/200\n",
            "19/19 [==============================] - 0s 3ms/step - loss: 14.0786 - accuracy: 0.6881\n",
            "Epoch 139/200\n",
            "19/19 [==============================] - 0s 3ms/step - loss: 12.7899 - accuracy: 0.6914\n",
            "Epoch 140/200\n",
            "19/19 [==============================] - 0s 3ms/step - loss: 7.7867 - accuracy: 0.6997\n",
            "Epoch 141/200\n",
            "19/19 [==============================] - 0s 3ms/step - loss: 5.5559 - accuracy: 0.7112\n",
            "Epoch 142/200\n",
            "19/19 [==============================] - 0s 3ms/step - loss: 3.8901 - accuracy: 0.6568\n",
            "Epoch 143/200\n",
            "19/19 [==============================] - 0s 3ms/step - loss: 3.3608 - accuracy: 0.7393\n",
            "Epoch 144/200\n",
            "19/19 [==============================] - 0s 3ms/step - loss: 1.9658 - accuracy: 0.7261\n",
            "Epoch 145/200\n",
            "19/19 [==============================] - 0s 3ms/step - loss: 1.3646 - accuracy: 0.6799\n",
            "Epoch 146/200\n",
            "19/19 [==============================] - 0s 3ms/step - loss: 1.2600 - accuracy: 0.7112\n",
            "Epoch 147/200\n",
            "19/19 [==============================] - 0s 3ms/step - loss: 3.5939 - accuracy: 0.6865\n",
            "Epoch 148/200\n",
            "19/19 [==============================] - 0s 3ms/step - loss: 1.5832 - accuracy: 0.6947\n",
            "Epoch 149/200\n",
            "19/19 [==============================] - 0s 3ms/step - loss: 0.8433 - accuracy: 0.7079\n",
            "Epoch 150/200\n",
            "19/19 [==============================] - 0s 3ms/step - loss: 0.6075 - accuracy: 0.7673\n",
            "Epoch 151/200\n",
            "19/19 [==============================] - 0s 3ms/step - loss: 0.7933 - accuracy: 0.7178\n",
            "Epoch 152/200\n",
            "19/19 [==============================] - 0s 3ms/step - loss: 1.1324 - accuracy: 0.7211\n",
            "Epoch 153/200\n",
            "19/19 [==============================] - 0s 3ms/step - loss: 0.5886 - accuracy: 0.7525\n",
            "Epoch 154/200\n",
            "19/19 [==============================] - 0s 3ms/step - loss: 1.0171 - accuracy: 0.6551\n",
            "Epoch 155/200\n",
            "19/19 [==============================] - 0s 3ms/step - loss: 1.1199 - accuracy: 0.7360\n",
            "Epoch 156/200\n",
            "19/19 [==============================] - 0s 3ms/step - loss: 1.1037 - accuracy: 0.6749\n",
            "Epoch 157/200\n",
            "19/19 [==============================] - 0s 3ms/step - loss: 0.7220 - accuracy: 0.7442\n",
            "Epoch 158/200\n",
            "19/19 [==============================] - 0s 3ms/step - loss: 0.6840 - accuracy: 0.7393\n",
            "Epoch 159/200\n",
            "19/19 [==============================] - 0s 3ms/step - loss: 0.7975 - accuracy: 0.7178\n",
            "Epoch 160/200\n",
            "19/19 [==============================] - 0s 3ms/step - loss: 0.6211 - accuracy: 0.7591\n",
            "Epoch 161/200\n",
            "19/19 [==============================] - 0s 3ms/step - loss: 0.5832 - accuracy: 0.7772\n",
            "Epoch 162/200\n",
            "19/19 [==============================] - 0s 3ms/step - loss: 0.6439 - accuracy: 0.7376\n",
            "Epoch 163/200\n",
            "19/19 [==============================] - 0s 3ms/step - loss: 1.0803 - accuracy: 0.7112\n",
            "Epoch 164/200\n",
            "19/19 [==============================] - 0s 3ms/step - loss: 1.3047 - accuracy: 0.6535\n",
            "Epoch 165/200\n",
            "19/19 [==============================] - 0s 3ms/step - loss: 0.6802 - accuracy: 0.7475\n",
            "Epoch 166/200\n",
            "19/19 [==============================] - 0s 3ms/step - loss: 0.6101 - accuracy: 0.7657\n",
            "Epoch 167/200\n",
            "19/19 [==============================] - 0s 3ms/step - loss: 0.5920 - accuracy: 0.7772\n",
            "Epoch 168/200\n",
            "19/19 [==============================] - 0s 3ms/step - loss: 0.6114 - accuracy: 0.7673\n",
            "Epoch 169/200\n",
            "19/19 [==============================] - 0s 3ms/step - loss: 0.6415 - accuracy: 0.7393\n",
            "Epoch 170/200\n",
            "19/19 [==============================] - 0s 3ms/step - loss: 0.5714 - accuracy: 0.7888\n",
            "Epoch 171/200\n",
            "19/19 [==============================] - 0s 3ms/step - loss: 0.5595 - accuracy: 0.7640\n",
            "Epoch 172/200\n",
            "19/19 [==============================] - 0s 3ms/step - loss: 0.5561 - accuracy: 0.7855\n",
            "Epoch 173/200\n",
            "19/19 [==============================] - 0s 3ms/step - loss: 0.5374 - accuracy: 0.7805\n",
            "Epoch 174/200\n",
            "19/19 [==============================] - 0s 3ms/step - loss: 0.6019 - accuracy: 0.7558\n",
            "Epoch 175/200\n",
            "19/19 [==============================] - 0s 3ms/step - loss: 0.6191 - accuracy: 0.7657\n",
            "Epoch 176/200\n",
            "19/19 [==============================] - 0s 3ms/step - loss: 0.6030 - accuracy: 0.7723\n",
            "Epoch 177/200\n",
            "19/19 [==============================] - 0s 3ms/step - loss: 0.6632 - accuracy: 0.7442\n",
            "Epoch 178/200\n",
            "19/19 [==============================] - 0s 3ms/step - loss: 0.5870 - accuracy: 0.7690\n",
            "Epoch 179/200\n",
            "19/19 [==============================] - 0s 3ms/step - loss: 0.5920 - accuracy: 0.7624\n",
            "Epoch 180/200\n",
            "19/19 [==============================] - 0s 3ms/step - loss: 0.7009 - accuracy: 0.7244\n",
            "Epoch 181/200\n",
            "19/19 [==============================] - 0s 3ms/step - loss: 0.9259 - accuracy: 0.6997\n",
            "Epoch 182/200\n",
            "19/19 [==============================] - 0s 3ms/step - loss: 0.6522 - accuracy: 0.7178\n",
            "Epoch 183/200\n",
            "19/19 [==============================] - 0s 3ms/step - loss: 0.7192 - accuracy: 0.7360\n",
            "Epoch 184/200\n",
            "19/19 [==============================] - 0s 3ms/step - loss: 0.5340 - accuracy: 0.7888\n",
            "Epoch 185/200\n",
            "19/19 [==============================] - 0s 3ms/step - loss: 0.7746 - accuracy: 0.7195\n",
            "Epoch 186/200\n",
            "19/19 [==============================] - 0s 3ms/step - loss: 0.6588 - accuracy: 0.7508\n",
            "Epoch 187/200\n",
            "19/19 [==============================] - 0s 3ms/step - loss: 0.6083 - accuracy: 0.7607\n",
            "Epoch 188/200\n",
            "19/19 [==============================] - 0s 3ms/step - loss: 0.7524 - accuracy: 0.7162\n",
            "Epoch 189/200\n",
            "19/19 [==============================] - 0s 3ms/step - loss: 0.6479 - accuracy: 0.7409\n",
            "Epoch 190/200\n",
            "19/19 [==============================] - 0s 3ms/step - loss: 0.5577 - accuracy: 0.7838\n",
            "Epoch 191/200\n",
            "19/19 [==============================] - 0s 3ms/step - loss: 0.6133 - accuracy: 0.7607\n",
            "Epoch 192/200\n",
            "19/19 [==============================] - 0s 3ms/step - loss: 0.5918 - accuracy: 0.7574\n",
            "Epoch 193/200\n",
            "19/19 [==============================] - 0s 3ms/step - loss: 0.6162 - accuracy: 0.7789\n",
            "Epoch 194/200\n",
            "19/19 [==============================] - 0s 3ms/step - loss: 0.7605 - accuracy: 0.7244\n",
            "Epoch 195/200\n",
            "19/19 [==============================] - 0s 3ms/step - loss: 0.8135 - accuracy: 0.7261\n",
            "Epoch 196/200\n",
            "19/19 [==============================] - 0s 3ms/step - loss: 0.9048 - accuracy: 0.7426\n",
            "Epoch 197/200\n",
            "19/19 [==============================] - 0s 3ms/step - loss: 0.8363 - accuracy: 0.7228\n",
            "Epoch 198/200\n",
            "19/19 [==============================] - 0s 3ms/step - loss: 0.9428 - accuracy: 0.7343\n",
            "Epoch 199/200\n",
            "19/19 [==============================] - 0s 3ms/step - loss: 0.8354 - accuracy: 0.7261\n",
            "Epoch 200/200\n",
            "19/19 [==============================] - 0s 3ms/step - loss: 0.6022 - accuracy: 0.7624\n"
          ]
        }
      ]
    },
    {
      "cell_type": "code",
      "source": [
        "Counter(y_train_2labels_modifiednum)"
      ],
      "metadata": {
        "colab": {
          "base_uri": "https://localhost:8080/"
        },
        "id": "iogQS0KeT0Ei",
        "outputId": "95f327c6-face-4ce7-e856-c33e47952a06"
      },
      "execution_count": 57,
      "outputs": [
        {
          "output_type": "execute_result",
          "data": {
            "text/plain": [
              "Counter({0: 487, 1: 119})"
            ]
          },
          "metadata": {},
          "execution_count": 57
        }
      ]
    },
    {
      "cell_type": "code",
      "source": [
        "1-119/(487+119)"
      ],
      "metadata": {
        "colab": {
          "base_uri": "https://localhost:8080/"
        },
        "id": "D_Du2AQ7UNIR",
        "outputId": "15616dc7-162b-40f5-ec3e-c410735fe3b1"
      },
      "execution_count": 45,
      "outputs": [
        {
          "output_type": "execute_result",
          "data": {
            "text/plain": [
              "0.8036303630363036"
            ]
          },
          "metadata": {},
          "execution_count": 45
        }
      ]
    },
    {
      "cell_type": "code",
      "source": [
        "preds = keras_model.predict(X_test_2labels_modifiednum)"
      ],
      "metadata": {
        "id": "Cg1gxW7_cx68"
      },
      "execution_count": 70,
      "outputs": []
    },
    {
      "cell_type": "code",
      "source": [
        "X_test_2labels_modifiednum"
      ],
      "metadata": {
        "colab": {
          "base_uri": "https://localhost:8080/",
          "height": 424
        },
        "id": "ofrXnXM_HOnd",
        "outputId": "8e8a7ddd-ef33-4fc4-f9de-ee30a19c6ce3"
      },
      "execution_count": 71,
      "outputs": [
        {
          "output_type": "execute_result",
          "data": {
            "text/plain": [
              "     house_num    shape_area   shape_length\n",
              "615      545.0  1.196177e+06  101480.433975\n",
              "101      933.0  1.917866e+06  166968.946616\n",
              "290      670.0  1.272731e+06  120103.525399\n",
              "688      167.0  1.582922e+06   64566.892177\n",
              "606      406.0  1.124294e+06   78300.838571\n",
              "..         ...           ...            ...\n",
              "220      627.0  2.571029e+06  124060.991250\n",
              "398     1234.0  1.737919e+06  185623.340189\n",
              "375      521.0  2.177210e+06   96231.145474\n",
              "94       341.0  9.102258e+05   66115.652937\n",
              "379      878.0  2.213681e+06  150313.593689\n",
              "\n",
              "[152 rows x 3 columns]"
            ],
            "text/html": [
              "\n",
              "  <div id=\"df-02e27719-2da4-490e-bb02-e730bf6f4cec\">\n",
              "    <div class=\"colab-df-container\">\n",
              "      <div>\n",
              "<style scoped>\n",
              "    .dataframe tbody tr th:only-of-type {\n",
              "        vertical-align: middle;\n",
              "    }\n",
              "\n",
              "    .dataframe tbody tr th {\n",
              "        vertical-align: top;\n",
              "    }\n",
              "\n",
              "    .dataframe thead th {\n",
              "        text-align: right;\n",
              "    }\n",
              "</style>\n",
              "<table border=\"1\" class=\"dataframe\">\n",
              "  <thead>\n",
              "    <tr style=\"text-align: right;\">\n",
              "      <th></th>\n",
              "      <th>house_num</th>\n",
              "      <th>shape_area</th>\n",
              "      <th>shape_length</th>\n",
              "    </tr>\n",
              "  </thead>\n",
              "  <tbody>\n",
              "    <tr>\n",
              "      <th>615</th>\n",
              "      <td>545.0</td>\n",
              "      <td>1.196177e+06</td>\n",
              "      <td>101480.433975</td>\n",
              "    </tr>\n",
              "    <tr>\n",
              "      <th>101</th>\n",
              "      <td>933.0</td>\n",
              "      <td>1.917866e+06</td>\n",
              "      <td>166968.946616</td>\n",
              "    </tr>\n",
              "    <tr>\n",
              "      <th>290</th>\n",
              "      <td>670.0</td>\n",
              "      <td>1.272731e+06</td>\n",
              "      <td>120103.525399</td>\n",
              "    </tr>\n",
              "    <tr>\n",
              "      <th>688</th>\n",
              "      <td>167.0</td>\n",
              "      <td>1.582922e+06</td>\n",
              "      <td>64566.892177</td>\n",
              "    </tr>\n",
              "    <tr>\n",
              "      <th>606</th>\n",
              "      <td>406.0</td>\n",
              "      <td>1.124294e+06</td>\n",
              "      <td>78300.838571</td>\n",
              "    </tr>\n",
              "    <tr>\n",
              "      <th>...</th>\n",
              "      <td>...</td>\n",
              "      <td>...</td>\n",
              "      <td>...</td>\n",
              "    </tr>\n",
              "    <tr>\n",
              "      <th>220</th>\n",
              "      <td>627.0</td>\n",
              "      <td>2.571029e+06</td>\n",
              "      <td>124060.991250</td>\n",
              "    </tr>\n",
              "    <tr>\n",
              "      <th>398</th>\n",
              "      <td>1234.0</td>\n",
              "      <td>1.737919e+06</td>\n",
              "      <td>185623.340189</td>\n",
              "    </tr>\n",
              "    <tr>\n",
              "      <th>375</th>\n",
              "      <td>521.0</td>\n",
              "      <td>2.177210e+06</td>\n",
              "      <td>96231.145474</td>\n",
              "    </tr>\n",
              "    <tr>\n",
              "      <th>94</th>\n",
              "      <td>341.0</td>\n",
              "      <td>9.102258e+05</td>\n",
              "      <td>66115.652937</td>\n",
              "    </tr>\n",
              "    <tr>\n",
              "      <th>379</th>\n",
              "      <td>878.0</td>\n",
              "      <td>2.213681e+06</td>\n",
              "      <td>150313.593689</td>\n",
              "    </tr>\n",
              "  </tbody>\n",
              "</table>\n",
              "<p>152 rows × 3 columns</p>\n",
              "</div>\n",
              "      <button class=\"colab-df-convert\" onclick=\"convertToInteractive('df-02e27719-2da4-490e-bb02-e730bf6f4cec')\"\n",
              "              title=\"Convert this dataframe to an interactive table.\"\n",
              "              style=\"display:none;\">\n",
              "        \n",
              "  <svg xmlns=\"http://www.w3.org/2000/svg\" height=\"24px\"viewBox=\"0 0 24 24\"\n",
              "       width=\"24px\">\n",
              "    <path d=\"M0 0h24v24H0V0z\" fill=\"none\"/>\n",
              "    <path d=\"M18.56 5.44l.94 2.06.94-2.06 2.06-.94-2.06-.94-.94-2.06-.94 2.06-2.06.94zm-11 1L8.5 8.5l.94-2.06 2.06-.94-2.06-.94L8.5 2.5l-.94 2.06-2.06.94zm10 10l.94 2.06.94-2.06 2.06-.94-2.06-.94-.94-2.06-.94 2.06-2.06.94z\"/><path d=\"M17.41 7.96l-1.37-1.37c-.4-.4-.92-.59-1.43-.59-.52 0-1.04.2-1.43.59L10.3 9.45l-7.72 7.72c-.78.78-.78 2.05 0 2.83L4 21.41c.39.39.9.59 1.41.59.51 0 1.02-.2 1.41-.59l7.78-7.78 2.81-2.81c.8-.78.8-2.07 0-2.86zM5.41 20L4 18.59l7.72-7.72 1.47 1.35L5.41 20z\"/>\n",
              "  </svg>\n",
              "      </button>\n",
              "      \n",
              "  <style>\n",
              "    .colab-df-container {\n",
              "      display:flex;\n",
              "      flex-wrap:wrap;\n",
              "      gap: 12px;\n",
              "    }\n",
              "\n",
              "    .colab-df-convert {\n",
              "      background-color: #E8F0FE;\n",
              "      border: none;\n",
              "      border-radius: 50%;\n",
              "      cursor: pointer;\n",
              "      display: none;\n",
              "      fill: #1967D2;\n",
              "      height: 32px;\n",
              "      padding: 0 0 0 0;\n",
              "      width: 32px;\n",
              "    }\n",
              "\n",
              "    .colab-df-convert:hover {\n",
              "      background-color: #E2EBFA;\n",
              "      box-shadow: 0px 1px 2px rgba(60, 64, 67, 0.3), 0px 1px 3px 1px rgba(60, 64, 67, 0.15);\n",
              "      fill: #174EA6;\n",
              "    }\n",
              "\n",
              "    [theme=dark] .colab-df-convert {\n",
              "      background-color: #3B4455;\n",
              "      fill: #D2E3FC;\n",
              "    }\n",
              "\n",
              "    [theme=dark] .colab-df-convert:hover {\n",
              "      background-color: #434B5C;\n",
              "      box-shadow: 0px 1px 3px 1px rgba(0, 0, 0, 0.15);\n",
              "      filter: drop-shadow(0px 1px 2px rgba(0, 0, 0, 0.3));\n",
              "      fill: #FFFFFF;\n",
              "    }\n",
              "  </style>\n",
              "\n",
              "      <script>\n",
              "        const buttonEl =\n",
              "          document.querySelector('#df-02e27719-2da4-490e-bb02-e730bf6f4cec button.colab-df-convert');\n",
              "        buttonEl.style.display =\n",
              "          google.colab.kernel.accessAllowed ? 'block' : 'none';\n",
              "\n",
              "        async function convertToInteractive(key) {\n",
              "          const element = document.querySelector('#df-02e27719-2da4-490e-bb02-e730bf6f4cec');\n",
              "          const dataTable =\n",
              "            await google.colab.kernel.invokeFunction('convertToInteractive',\n",
              "                                                     [key], {});\n",
              "          if (!dataTable) return;\n",
              "\n",
              "          const docLinkHtml = 'Like what you see? Visit the ' +\n",
              "            '<a target=\"_blank\" href=https://colab.research.google.com/notebooks/data_table.ipynb>data table notebook</a>'\n",
              "            + ' to learn more about interactive tables.';\n",
              "          element.innerHTML = '';\n",
              "          dataTable['output_type'] = 'display_data';\n",
              "          await google.colab.output.renderOutput(dataTable, element);\n",
              "          const docLink = document.createElement('div');\n",
              "          docLink.innerHTML = docLinkHtml;\n",
              "          element.appendChild(docLink);\n",
              "        }\n",
              "      </script>\n",
              "    </div>\n",
              "  </div>\n",
              "  "
            ]
          },
          "metadata": {},
          "execution_count": 71
        }
      ]
    },
    {
      "cell_type": "code",
      "source": [
        "preds[preds<=0.5]=0\n",
        "preds[preds>0.5]=1"
      ],
      "metadata": {
        "id": "cs7J542UI3uD"
      },
      "execution_count": 73,
      "outputs": []
    },
    {
      "cell_type": "code",
      "source": [
        "sklearn.metrics.accuracy_score(y_test_2labels_modifiednum, preds)"
      ],
      "metadata": {
        "colab": {
          "base_uri": "https://localhost:8080/"
        },
        "id": "7jBrw4GiJA6F",
        "outputId": "56fdfd99-5a09-45da-fa8b-af1e4235f372"
      },
      "execution_count": 74,
      "outputs": [
        {
          "output_type": "execute_result",
          "data": {
            "text/plain": [
              "0.7828947368421053"
            ]
          },
          "metadata": {},
          "execution_count": 74
        }
      ]
    },
    {
      "cell_type": "code",
      "source": [
        "Counter(y_test_2labels_modifiednum)"
      ],
      "metadata": {
        "colab": {
          "base_uri": "https://localhost:8080/"
        },
        "id": "TKs5zWtFVlbL",
        "outputId": "46f92a50-9cda-42bd-8bbd-b20e6b1a52ac"
      },
      "execution_count": 75,
      "outputs": [
        {
          "output_type": "execute_result",
          "data": {
            "text/plain": [
              "Counter({0: 119, 1: 33})"
            ]
          },
          "metadata": {},
          "execution_count": 75
        }
      ]
    },
    {
      "cell_type": "code",
      "source": [
        "1-33/(33+119)"
      ],
      "metadata": {
        "colab": {
          "base_uri": "https://localhost:8080/"
        },
        "id": "4PQgzWIxVokV",
        "outputId": "881340e8-5500-4d23-ef6f-5e0b6086b0f8"
      },
      "execution_count": 77,
      "outputs": [
        {
          "output_type": "execute_result",
          "data": {
            "text/plain": [
              "0.7828947368421053"
            ]
          },
          "metadata": {},
          "execution_count": 77
        }
      ]
    },
    {
      "cell_type": "markdown",
      "source": [
        "## Random forest"
      ],
      "metadata": {
        "id": "KEbPZbHin5za"
      }
    },
    {
      "cell_type": "code",
      "source": [
        "classifier = RandomForestClassifier(n_estimators = 10, criterion = 'entropy', random_state = 42)\n",
        "classifier.fit(X_train_2labels_modifiednum, y_train_2labels_modifiednum)"
      ],
      "metadata": {
        "colab": {
          "base_uri": "https://localhost:8080/"
        },
        "id": "v37Kqq8hcx4s",
        "outputId": "cb812afa-f30e-47d4-c516-ca45009ec05d"
      },
      "execution_count": 78,
      "outputs": [
        {
          "output_type": "execute_result",
          "data": {
            "text/plain": [
              "RandomForestClassifier(criterion='entropy', n_estimators=10, random_state=42)"
            ]
          },
          "metadata": {},
          "execution_count": 78
        }
      ]
    },
    {
      "cell_type": "code",
      "source": [
        "print(\"Accuracy Score:\",classifier.score(X_test_2labels_modifiednum, y_test_2labels_modifiednum))"
      ],
      "metadata": {
        "colab": {
          "base_uri": "https://localhost:8080/"
        },
        "id": "gzCGgSFiV31S",
        "outputId": "77564de7-eee2-4d18-9585-49406fb5158b"
      },
      "execution_count": 79,
      "outputs": [
        {
          "output_type": "stream",
          "name": "stdout",
          "text": [
            "Accuracy Score: 0.756578947368421\n"
          ]
        }
      ]
    },
    {
      "cell_type": "code",
      "source": [
        "Counter(y_test_2labels_modifiednum)"
      ],
      "metadata": {
        "colab": {
          "base_uri": "https://localhost:8080/"
        },
        "id": "CXt0R_-Kcxs5",
        "outputId": "6c944c50-5ba6-4918-f0c2-d963eca4b0c1"
      },
      "execution_count": 82,
      "outputs": [
        {
          "output_type": "execute_result",
          "data": {
            "text/plain": [
              "Counter({0: 119, 1: 33})"
            ]
          },
          "metadata": {},
          "execution_count": 82
        }
      ]
    },
    {
      "cell_type": "code",
      "source": [
        "1-33/(33+119)"
      ],
      "metadata": {
        "colab": {
          "base_uri": "https://localhost:8080/"
        },
        "id": "2uBjWPqmRLQl",
        "outputId": "4fa97751-567d-4b2b-9f47-2c98e8bb4e96"
      },
      "execution_count": 5,
      "outputs": [
        {
          "output_type": "execute_result",
          "data": {
            "text/plain": [
              "0.7828947368421053"
            ]
          },
          "metadata": {},
          "execution_count": 5
        }
      ]
    },
    {
      "cell_type": "code",
      "source": [
        "from sklearn.metrics import classification_report"
      ],
      "metadata": {
        "id": "z1UfxEHVzzHg"
      },
      "execution_count": 80,
      "outputs": []
    },
    {
      "cell_type": "code",
      "source": [
        "y_pred = classifier.predict(X_test_2labels_modifiednum)\n",
        "print(classification_report(y_test_2labels_modifiednum, y_pred))"
      ],
      "metadata": {
        "colab": {
          "base_uri": "https://localhost:8080/"
        },
        "id": "v5aNMbW2jaTf",
        "outputId": "07a4d6e7-c742-496b-9ea0-ede5c90f865d"
      },
      "execution_count": 81,
      "outputs": [
        {
          "output_type": "stream",
          "name": "stdout",
          "text": [
            "              precision    recall  f1-score   support\n",
            "\n",
            "           0       0.79      0.93      0.86       119\n",
            "           1       0.33      0.12      0.18        33\n",
            "\n",
            "    accuracy                           0.76       152\n",
            "   macro avg       0.56      0.53      0.52       152\n",
            "weighted avg       0.69      0.76      0.71       152\n",
            "\n"
          ]
        }
      ]
    },
    {
      "cell_type": "markdown",
      "source": [
        "## Tabular model"
      ],
      "metadata": {
        "id": "WakYHerUnwWe"
      }
    },
    {
      "cell_type": "code",
      "source": [
        "df_2labels_modifiednum_int = df_2labels_modifiednum[['house_num','shape_area','shape_length','target']]"
      ],
      "metadata": {
        "id": "eFr712z1j4Z7"
      },
      "execution_count": 83,
      "outputs": []
    },
    {
      "cell_type": "code",
      "source": [
        "df_2labels_modifiednum_int['shape_length'] = df_2labels_modifiednum_int['shape_length'].astype(int)"
      ],
      "metadata": {
        "colab": {
          "base_uri": "https://localhost:8080/"
        },
        "id": "lNTFILTMfKAU",
        "outputId": "1c787660-3872-4e00-c25c-fb10f4c00f1c"
      },
      "execution_count": 84,
      "outputs": [
        {
          "output_type": "stream",
          "name": "stderr",
          "text": [
            "/usr/local/lib/python3.7/dist-packages/ipykernel_launcher.py:1: SettingWithCopyWarning: \n",
            "A value is trying to be set on a copy of a slice from a DataFrame.\n",
            "Try using .loc[row_indexer,col_indexer] = value instead\n",
            "\n",
            "See the caveats in the documentation: https://pandas.pydata.org/pandas-docs/stable/user_guide/indexing.html#returning-a-view-versus-a-copy\n",
            "  \"\"\"Entry point for launching an IPython kernel.\n"
          ]
        }
      ]
    },
    {
      "cell_type": "code",
      "source": [
        "df_2labels_modifiednum_int['shape_area'] = df_2labels_modifiednum_int['shape_area'].astype(int)"
      ],
      "metadata": {
        "colab": {
          "base_uri": "https://localhost:8080/"
        },
        "id": "7ACxoG80fJ9F",
        "outputId": "fb2cdc79-2e4e-47bd-cdff-25b0d16201c0"
      },
      "execution_count": 85,
      "outputs": [
        {
          "output_type": "stream",
          "name": "stderr",
          "text": [
            "/usr/local/lib/python3.7/dist-packages/ipykernel_launcher.py:1: SettingWithCopyWarning: \n",
            "A value is trying to be set on a copy of a slice from a DataFrame.\n",
            "Try using .loc[row_indexer,col_indexer] = value instead\n",
            "\n",
            "See the caveats in the documentation: https://pandas.pydata.org/pandas-docs/stable/user_guide/indexing.html#returning-a-view-versus-a-copy\n",
            "  \"\"\"Entry point for launching an IPython kernel.\n"
          ]
        }
      ]
    },
    {
      "cell_type": "code",
      "source": [
        "df_2labels_modifiednum_int['house_num'] = df_2labels_modifiednum_int['house_num'].astype(int)"
      ],
      "metadata": {
        "colab": {
          "base_uri": "https://localhost:8080/"
        },
        "id": "8dQLYQppfJ5G",
        "outputId": "676d9b04-e0b8-49e5-ae2d-debda42392e3"
      },
      "execution_count": 86,
      "outputs": [
        {
          "output_type": "stream",
          "name": "stderr",
          "text": [
            "/usr/local/lib/python3.7/dist-packages/ipykernel_launcher.py:1: SettingWithCopyWarning: \n",
            "A value is trying to be set on a copy of a slice from a DataFrame.\n",
            "Try using .loc[row_indexer,col_indexer] = value instead\n",
            "\n",
            "See the caveats in the documentation: https://pandas.pydata.org/pandas-docs/stable/user_guide/indexing.html#returning-a-view-versus-a-copy\n",
            "  \"\"\"Entry point for launching an IPython kernel.\n"
          ]
        }
      ]
    },
    {
      "cell_type": "code",
      "source": [
        "df_2labels_modifiednum_int"
      ],
      "metadata": {
        "colab": {
          "base_uri": "https://localhost:8080/",
          "height": 424
        },
        "id": "7RR-kWE9jKyC",
        "outputId": "3f716209-eb75-4fa7-bcdd-add6fa3f1366"
      },
      "execution_count": 87,
      "outputs": [
        {
          "output_type": "execute_result",
          "data": {
            "text/plain": [
              "     house_num  shape_area  shape_length  target\n",
              "0          779     2228243        154689       0\n",
              "1          177     1712525         65381       0\n",
              "2          192     1542560         62029       0\n",
              "3          116      916584         39755       0\n",
              "4          106     3059689         72289       0\n",
              "..         ...         ...           ...     ...\n",
              "793        447     1317559        101141       0\n",
              "794        213     1536428         70739       0\n",
              "795        218     1805965         77444       0\n",
              "796        405     1110234         86114       0\n",
              "797        173     1519129         54932       0\n",
              "\n",
              "[758 rows x 4 columns]"
            ],
            "text/html": [
              "\n",
              "  <div id=\"df-937b5d95-2bc0-429a-84fa-416e9ca74507\">\n",
              "    <div class=\"colab-df-container\">\n",
              "      <div>\n",
              "<style scoped>\n",
              "    .dataframe tbody tr th:only-of-type {\n",
              "        vertical-align: middle;\n",
              "    }\n",
              "\n",
              "    .dataframe tbody tr th {\n",
              "        vertical-align: top;\n",
              "    }\n",
              "\n",
              "    .dataframe thead th {\n",
              "        text-align: right;\n",
              "    }\n",
              "</style>\n",
              "<table border=\"1\" class=\"dataframe\">\n",
              "  <thead>\n",
              "    <tr style=\"text-align: right;\">\n",
              "      <th></th>\n",
              "      <th>house_num</th>\n",
              "      <th>shape_area</th>\n",
              "      <th>shape_length</th>\n",
              "      <th>target</th>\n",
              "    </tr>\n",
              "  </thead>\n",
              "  <tbody>\n",
              "    <tr>\n",
              "      <th>0</th>\n",
              "      <td>779</td>\n",
              "      <td>2228243</td>\n",
              "      <td>154689</td>\n",
              "      <td>0</td>\n",
              "    </tr>\n",
              "    <tr>\n",
              "      <th>1</th>\n",
              "      <td>177</td>\n",
              "      <td>1712525</td>\n",
              "      <td>65381</td>\n",
              "      <td>0</td>\n",
              "    </tr>\n",
              "    <tr>\n",
              "      <th>2</th>\n",
              "      <td>192</td>\n",
              "      <td>1542560</td>\n",
              "      <td>62029</td>\n",
              "      <td>0</td>\n",
              "    </tr>\n",
              "    <tr>\n",
              "      <th>3</th>\n",
              "      <td>116</td>\n",
              "      <td>916584</td>\n",
              "      <td>39755</td>\n",
              "      <td>0</td>\n",
              "    </tr>\n",
              "    <tr>\n",
              "      <th>4</th>\n",
              "      <td>106</td>\n",
              "      <td>3059689</td>\n",
              "      <td>72289</td>\n",
              "      <td>0</td>\n",
              "    </tr>\n",
              "    <tr>\n",
              "      <th>...</th>\n",
              "      <td>...</td>\n",
              "      <td>...</td>\n",
              "      <td>...</td>\n",
              "      <td>...</td>\n",
              "    </tr>\n",
              "    <tr>\n",
              "      <th>793</th>\n",
              "      <td>447</td>\n",
              "      <td>1317559</td>\n",
              "      <td>101141</td>\n",
              "      <td>0</td>\n",
              "    </tr>\n",
              "    <tr>\n",
              "      <th>794</th>\n",
              "      <td>213</td>\n",
              "      <td>1536428</td>\n",
              "      <td>70739</td>\n",
              "      <td>0</td>\n",
              "    </tr>\n",
              "    <tr>\n",
              "      <th>795</th>\n",
              "      <td>218</td>\n",
              "      <td>1805965</td>\n",
              "      <td>77444</td>\n",
              "      <td>0</td>\n",
              "    </tr>\n",
              "    <tr>\n",
              "      <th>796</th>\n",
              "      <td>405</td>\n",
              "      <td>1110234</td>\n",
              "      <td>86114</td>\n",
              "      <td>0</td>\n",
              "    </tr>\n",
              "    <tr>\n",
              "      <th>797</th>\n",
              "      <td>173</td>\n",
              "      <td>1519129</td>\n",
              "      <td>54932</td>\n",
              "      <td>0</td>\n",
              "    </tr>\n",
              "  </tbody>\n",
              "</table>\n",
              "<p>758 rows × 4 columns</p>\n",
              "</div>\n",
              "      <button class=\"colab-df-convert\" onclick=\"convertToInteractive('df-937b5d95-2bc0-429a-84fa-416e9ca74507')\"\n",
              "              title=\"Convert this dataframe to an interactive table.\"\n",
              "              style=\"display:none;\">\n",
              "        \n",
              "  <svg xmlns=\"http://www.w3.org/2000/svg\" height=\"24px\"viewBox=\"0 0 24 24\"\n",
              "       width=\"24px\">\n",
              "    <path d=\"M0 0h24v24H0V0z\" fill=\"none\"/>\n",
              "    <path d=\"M18.56 5.44l.94 2.06.94-2.06 2.06-.94-2.06-.94-.94-2.06-.94 2.06-2.06.94zm-11 1L8.5 8.5l.94-2.06 2.06-.94-2.06-.94L8.5 2.5l-.94 2.06-2.06.94zm10 10l.94 2.06.94-2.06 2.06-.94-2.06-.94-.94-2.06-.94 2.06-2.06.94z\"/><path d=\"M17.41 7.96l-1.37-1.37c-.4-.4-.92-.59-1.43-.59-.52 0-1.04.2-1.43.59L10.3 9.45l-7.72 7.72c-.78.78-.78 2.05 0 2.83L4 21.41c.39.39.9.59 1.41.59.51 0 1.02-.2 1.41-.59l7.78-7.78 2.81-2.81c.8-.78.8-2.07 0-2.86zM5.41 20L4 18.59l7.72-7.72 1.47 1.35L5.41 20z\"/>\n",
              "  </svg>\n",
              "      </button>\n",
              "      \n",
              "  <style>\n",
              "    .colab-df-container {\n",
              "      display:flex;\n",
              "      flex-wrap:wrap;\n",
              "      gap: 12px;\n",
              "    }\n",
              "\n",
              "    .colab-df-convert {\n",
              "      background-color: #E8F0FE;\n",
              "      border: none;\n",
              "      border-radius: 50%;\n",
              "      cursor: pointer;\n",
              "      display: none;\n",
              "      fill: #1967D2;\n",
              "      height: 32px;\n",
              "      padding: 0 0 0 0;\n",
              "      width: 32px;\n",
              "    }\n",
              "\n",
              "    .colab-df-convert:hover {\n",
              "      background-color: #E2EBFA;\n",
              "      box-shadow: 0px 1px 2px rgba(60, 64, 67, 0.3), 0px 1px 3px 1px rgba(60, 64, 67, 0.15);\n",
              "      fill: #174EA6;\n",
              "    }\n",
              "\n",
              "    [theme=dark] .colab-df-convert {\n",
              "      background-color: #3B4455;\n",
              "      fill: #D2E3FC;\n",
              "    }\n",
              "\n",
              "    [theme=dark] .colab-df-convert:hover {\n",
              "      background-color: #434B5C;\n",
              "      box-shadow: 0px 1px 3px 1px rgba(0, 0, 0, 0.15);\n",
              "      filter: drop-shadow(0px 1px 2px rgba(0, 0, 0, 0.3));\n",
              "      fill: #FFFFFF;\n",
              "    }\n",
              "  </style>\n",
              "\n",
              "      <script>\n",
              "        const buttonEl =\n",
              "          document.querySelector('#df-937b5d95-2bc0-429a-84fa-416e9ca74507 button.colab-df-convert');\n",
              "        buttonEl.style.display =\n",
              "          google.colab.kernel.accessAllowed ? 'block' : 'none';\n",
              "\n",
              "        async function convertToInteractive(key) {\n",
              "          const element = document.querySelector('#df-937b5d95-2bc0-429a-84fa-416e9ca74507');\n",
              "          const dataTable =\n",
              "            await google.colab.kernel.invokeFunction('convertToInteractive',\n",
              "                                                     [key], {});\n",
              "          if (!dataTable) return;\n",
              "\n",
              "          const docLinkHtml = 'Like what you see? Visit the ' +\n",
              "            '<a target=\"_blank\" href=https://colab.research.google.com/notebooks/data_table.ipynb>data table notebook</a>'\n",
              "            + ' to learn more about interactive tables.';\n",
              "          element.innerHTML = '';\n",
              "          dataTable['output_type'] = 'display_data';\n",
              "          await google.colab.output.renderOutput(dataTable, element);\n",
              "          const docLink = document.createElement('div');\n",
              "          docLink.innerHTML = docLinkHtml;\n",
              "          element.appendChild(docLink);\n",
              "        }\n",
              "      </script>\n",
              "    </div>\n",
              "  </div>\n",
              "  "
            ]
          },
          "metadata": {},
          "execution_count": 87
        }
      ]
    },
    {
      "cell_type": "code",
      "source": [
        "# train, test split\n",
        "train_splits = []\n",
        "test_splits = []\n",
        "\n",
        "for _, group_data in df_2labels_modifiednum_int.groupby(\"target\"):\n",
        "    random_selection = np.random.rand(len(group_data.index)) <= 0.85\n",
        "    train_splits.append(group_data[random_selection])\n",
        "    test_splits.append(group_data[~random_selection])\n",
        "\n",
        "train_data = pd.concat(train_splits).sample(frac=1).reset_index(drop=True)\n",
        "test_data = pd.concat(test_splits).sample(frac=1).reset_index(drop=True)\n",
        "\n",
        "print(f\"Train split size: {len(train_data.index)}\")\n",
        "print(f\"Test split size: {len(test_data.index)}\")\n",
        "\n",
        "train_data_file = \"train_data_2labels_modifiednum_int.csv\"\n",
        "test_data_file = \"test_data_2labels_modifiednum_int.csv\"\n",
        "\n",
        "train_data.to_csv(train_data_file, index=False)\n",
        "test_data.to_csv(test_data_file, index=False)"
      ],
      "metadata": {
        "colab": {
          "base_uri": "https://localhost:8080/"
        },
        "id": "4wcwpBq7oVX9",
        "outputId": "d6b401a5-9377-42a7-9157-7f388033948e"
      },
      "execution_count": 107,
      "outputs": [
        {
          "output_type": "stream",
          "name": "stdout",
          "text": [
            "Train split size: 637\n",
            "Test split size: 121\n"
          ]
        }
      ]
    },
    {
      "cell_type": "code",
      "source": [
        "import copy"
      ],
      "metadata": {
        "id": "f47daDeNliXu"
      },
      "execution_count": 113,
      "outputs": []
    },
    {
      "cell_type": "code",
      "source": [
        "CSV_HEADER = list(df_2labels_modifiednum_int.columns)\n",
        "\n",
        "TARGET_FEATURE_NAME = \"target\"\n",
        "\n",
        "TARGET_FEATURE_LABELS = [0, 1]\n",
        "\n",
        "FEATURE_NAMES = copy.deepcopy(CSV_HEADER)\n",
        "FEATURE_NAMES.remove(TARGET_FEATURE_NAME)\n",
        "\n",
        "COLUMN_DEFAULTS = [\n",
        "    [0] if feature_name in FEATURE_NAMES + [TARGET_FEATURE_NAME] else [\"NA\"]\n",
        "    for feature_name in CSV_HEADER\n",
        "]\n",
        "\n",
        "NUM_CLASSES = len(TARGET_FEATURE_LABELS)"
      ],
      "metadata": {
        "id": "gVEFUWjJkKVN"
      },
      "execution_count": 114,
      "outputs": []
    },
    {
      "cell_type": "code",
      "source": [
        "def get_dataset_from_csv(csv_file_path, batch_size, shuffle=False):\n",
        "\n",
        "    dataset = tf.data.experimental.make_csv_dataset(\n",
        "        csv_file_path,\n",
        "        batch_size=batch_size,\n",
        "        column_names=CSV_HEADER,\n",
        "        column_defaults=COLUMN_DEFAULTS,\n",
        "        label_name=TARGET_FEATURE_NAME,\n",
        "        num_epochs=1,\n",
        "        header=True,\n",
        "        shuffle=shuffle,\n",
        "    )\n",
        "    return dataset.cache()\n",
        "\n",
        "\n",
        "\n",
        "learning_rate = 0.001\n",
        "dropout_rate = 0.1\n",
        "batch_size = 265\n",
        "num_epochs = 50\n",
        "\n",
        "hidden_units = [50, 50]\n",
        "\n",
        "\n",
        "def run_experiment(model):\n",
        "\n",
        "    model.compile(\n",
        "        optimizer=keras.optimizers.Adam(learning_rate=learning_rate),\n",
        "        loss=keras.losses.SparseCategoricalCrossentropy(),\n",
        "        metrics=[keras.metrics.SparseCategoricalAccuracy()],\n",
        "    )\n",
        "\n",
        "    train_dataset = get_dataset_from_csv(train_data_file, batch_size, shuffle=True)\n",
        "\n",
        "    test_dataset = get_dataset_from_csv(test_data_file, batch_size)\n",
        "\n",
        "    print(\"Start training the model...\")\n",
        "    history = model.fit(train_dataset, epochs=num_epochs)\n",
        "    print(\"Model training finished\")\n",
        "\n",
        "    _, accuracy = model.evaluate(test_dataset, verbose=0)\n",
        "\n",
        "    print(f\"Test accuracy: {round(accuracy * 100, 2)}%\")"
      ],
      "metadata": {
        "id": "VbhISoXekKRx"
      },
      "execution_count": 115,
      "outputs": []
    },
    {
      "cell_type": "code",
      "source": [
        "train_dataset = get_dataset_from_csv(train_data_file, batch_size, shuffle=True)\n",
        "train_dataset"
      ],
      "metadata": {
        "colab": {
          "base_uri": "https://localhost:8080/"
        },
        "id": "7QZMCFOljQgQ",
        "outputId": "55977567-e779-49a1-d9ca-c888be35820a"
      },
      "execution_count": 116,
      "outputs": [
        {
          "output_type": "execute_result",
          "data": {
            "text/plain": [
              "<CacheDataset element_spec=(OrderedDict([('house_num', TensorSpec(shape=(None,), dtype=tf.int32, name=None)), ('shape_area', TensorSpec(shape=(None,), dtype=tf.int32, name=None)), ('shape_length', TensorSpec(shape=(None,), dtype=tf.int32, name=None))]), TensorSpec(shape=(None,), dtype=tf.int32, name=None))>"
            ]
          },
          "metadata": {},
          "execution_count": 116
        }
      ]
    },
    {
      "cell_type": "code",
      "source": [
        "Counter(test_data.target)"
      ],
      "metadata": {
        "colab": {
          "base_uri": "https://localhost:8080/"
        },
        "id": "Sx1HoK6osgMW",
        "outputId": "84cbd513-ba51-4ab6-fadf-ee967bb783d8"
      },
      "execution_count": 72,
      "outputs": [
        {
          "output_type": "execute_result",
          "data": {
            "text/plain": [
              "Counter({0: 95, 1: 24})"
            ]
          },
          "metadata": {},
          "execution_count": 72
        }
      ]
    },
    {
      "cell_type": "code",
      "source": [
        "1-24/(24+95)"
      ],
      "metadata": {
        "colab": {
          "base_uri": "https://localhost:8080/"
        },
        "id": "SaglZn-c2l_W",
        "outputId": "1c3d90cb-9b11-4fac-8f79-453742b591e8"
      },
      "execution_count": 110,
      "outputs": [
        {
          "output_type": "execute_result",
          "data": {
            "text/plain": [
              "0.7983193277310925"
            ]
          },
          "metadata": {},
          "execution_count": 110
        }
      ]
    },
    {
      "cell_type": "code",
      "source": [
        "#create input\n",
        "def create_model_inputs():\n",
        "    inputs = {}\n",
        "    for feature_name in FEATURE_NAMES:\n",
        "        inputs[feature_name] = layers.Input(\n",
        "            name=feature_name, shape=(), dtype=tf.float32\n",
        "        )\n",
        "    return inputs"
      ],
      "metadata": {
        "id": "odwyD5t1jQeT"
      },
      "execution_count": 118,
      "outputs": []
    },
    {
      "cell_type": "code",
      "source": [
        "import math\n",
        "import numpy as np\n",
        "import pandas as pd\n",
        "import tensorflow as tf\n",
        "from tensorflow import keras\n",
        "from tensorflow.keras import layers\n",
        "import csv\n",
        "from tensorflow.keras.utils import plot_model\n",
        "import torch\n",
        "import torch.nn as nn\n",
        "from torch.autograd import Variable\n",
        "import torch.optim as optim\n",
        "import torchtext\n",
        "import torch\n",
        "from torch.nn import Linear\n",
        "import itertools\n",
        "import networkx as nx\n",
        "import string\n",
        "import nltk\n",
        "import spacy\n",
        "import random\n",
        "from tqdm import tqdm"
      ],
      "metadata": {
        "id": "6_24hrCF1-Hj"
      },
      "execution_count": 119,
      "outputs": []
    },
    {
      "cell_type": "code",
      "source": [
        "#encode features\n",
        "\n",
        "from tensorflow.keras.layers.experimental.preprocessing import CategoryEncoding\n",
        "from tensorflow.keras.layers.experimental.preprocessing import StringLookup\n",
        "\n",
        "\n",
        "def encode_inputs(inputs, use_embedding=False):\n",
        "    encoded_features = []\n",
        "    for feature_name in inputs:\n",
        "        encoded_feature = tf.expand_dims(inputs[feature_name], -1)\n",
        "\n",
        "        encoded_features.append(encoded_feature)\n",
        "\n",
        "    all_features = layers.concatenate(encoded_features)\n",
        "    return all_features"
      ],
      "metadata": {
        "id": "idjMkYw7jQbw"
      },
      "execution_count": 120,
      "outputs": []
    },
    {
      "cell_type": "code",
      "source": [
        "from tensorflow.keras.utils import plot_model"
      ],
      "metadata": {
        "id": "HwEgb34ljQZ2"
      },
      "execution_count": 121,
      "outputs": []
    },
    {
      "cell_type": "code",
      "source": [
        "#baseline model\n",
        "\n",
        "def create_baseline_model():\n",
        "    inputs = create_model_inputs()\n",
        "    features = encode_inputs(inputs)\n",
        "    for units in hidden_units:\n",
        "        features = layers.Dense(units)(features)\n",
        "        features = layers.BatchNormalization()(features)\n",
        "        features = layers.ReLU()(features)\n",
        "        features = layers.Dropout(dropout_rate)(features)\n",
        "\n",
        "    outputs = layers.Dense(units=NUM_CLASSES, activation=\"sigmoid\")(features)\n",
        "    model = keras.Model(inputs=inputs, outputs=outputs)\n",
        "    return model\n",
        "\n",
        "\n",
        "baseline_model = create_baseline_model()\n",
        "plot_model(baseline_model, show_shapes=True, rankdir=\"LR\")"
      ],
      "metadata": {
        "colab": {
          "base_uri": "https://localhost:8080/",
          "height": 171
        },
        "id": "d0RWGYMGjQX1",
        "outputId": "08375d9c-fe6b-4999-9693-80178a007aca"
      },
      "execution_count": 122,
      "outputs": [
        {
          "output_type": "execute_result",
          "data": {
            "text/plain": [
              "<IPython.core.display.Image object>"
            ],
            "image/png": "[encoded data removed]"
          },
          "metadata": {},
          "execution_count": 122
        }
      ]
    },
    {
      "cell_type": "code",
      "source": [
        "run_experiment(baseline_model)"
      ],
      "metadata": {
        "colab": {
          "base_uri": "https://localhost:8080/"
        },
        "id": "7twFnLVWoVOK",
        "outputId": "968bc18d-2457-4976-a8ae-214e4a78d919"
      },
      "execution_count": 112,
      "outputs": [
        {
          "output_type": "stream",
          "name": "stdout",
          "text": [
            "Start training the model...\n",
            "Epoch 1/50\n",
            "3/3 [==============================] - 1s 27ms/step - loss: 0.9609 - sparse_categorical_accuracy: 0.3689\n",
            "Epoch 2/50\n",
            "3/3 [==============================] - 0s 5ms/step - loss: 0.8621 - sparse_categorical_accuracy: 0.4270\n",
            "Epoch 3/50\n",
            "3/3 [==============================] - 0s 4ms/step - loss: 0.8089 - sparse_categorical_accuracy: 0.4411\n",
            "Epoch 4/50\n",
            "3/3 [==============================] - 0s 5ms/step - loss: 0.7411 - sparse_categorical_accuracy: 0.5071\n",
            "Epoch 5/50\n",
            "3/3 [==============================] - 0s 4ms/step - loss: 0.6974 - sparse_categorical_accuracy: 0.5651\n",
            "Epoch 6/50\n",
            "3/3 [==============================] - 0s 5ms/step - loss: 0.6521 - sparse_categorical_accuracy: 0.5965\n",
            "Epoch 7/50\n",
            "3/3 [==============================] - 0s 5ms/step - loss: 0.6443 - sparse_categorical_accuracy: 0.6374\n",
            "Epoch 8/50\n",
            "3/3 [==============================] - 0s 4ms/step - loss: 0.6213 - sparse_categorical_accuracy: 0.6923\n",
            "Epoch 9/50\n",
            "3/3 [==============================] - 0s 4ms/step - loss: 0.5915 - sparse_categorical_accuracy: 0.7127\n",
            "Epoch 10/50\n",
            "3/3 [==============================] - 0s 5ms/step - loss: 0.5733 - sparse_categorical_accuracy: 0.7425\n",
            "Epoch 11/50\n",
            "3/3 [==============================] - 0s 5ms/step - loss: 0.5448 - sparse_categorical_accuracy: 0.7567\n",
            "Epoch 12/50\n",
            "3/3 [==============================] - 0s 4ms/step - loss: 0.5646 - sparse_categorical_accuracy: 0.7504\n",
            "Epoch 13/50\n",
            "3/3 [==============================] - 0s 4ms/step - loss: 0.5458 - sparse_categorical_accuracy: 0.7724\n",
            "Epoch 14/50\n",
            "3/3 [==============================] - 0s 4ms/step - loss: 0.5544 - sparse_categorical_accuracy: 0.7724\n",
            "Epoch 15/50\n",
            "3/3 [==============================] - 0s 4ms/step - loss: 0.5494 - sparse_categorical_accuracy: 0.7724\n",
            "Epoch 16/50\n",
            "3/3 [==============================] - 0s 5ms/step - loss: 0.5337 - sparse_categorical_accuracy: 0.7739\n",
            "Epoch 17/50\n",
            "3/3 [==============================] - 0s 4ms/step - loss: 0.5173 - sparse_categorical_accuracy: 0.7786\n",
            "Epoch 18/50\n",
            "3/3 [==============================] - 0s 4ms/step - loss: 0.5164 - sparse_categorical_accuracy: 0.7896\n",
            "Epoch 19/50\n",
            "3/3 [==============================] - 0s 4ms/step - loss: 0.5106 - sparse_categorical_accuracy: 0.7881\n",
            "Epoch 20/50\n",
            "3/3 [==============================] - 0s 5ms/step - loss: 0.5162 - sparse_categorical_accuracy: 0.7849\n",
            "Epoch 21/50\n",
            "3/3 [==============================] - 0s 5ms/step - loss: 0.5137 - sparse_categorical_accuracy: 0.7928\n",
            "Epoch 22/50\n",
            "3/3 [==============================] - 0s 4ms/step - loss: 0.5179 - sparse_categorical_accuracy: 0.7834\n",
            "Epoch 23/50\n",
            "3/3 [==============================] - 0s 5ms/step - loss: 0.5128 - sparse_categorical_accuracy: 0.7834\n",
            "Epoch 24/50\n",
            "3/3 [==============================] - 0s 5ms/step - loss: 0.5028 - sparse_categorical_accuracy: 0.7912\n",
            "Epoch 25/50\n",
            "3/3 [==============================] - 0s 4ms/step - loss: 0.5073 - sparse_categorical_accuracy: 0.7881\n",
            "Epoch 26/50\n",
            "3/3 [==============================] - 0s 4ms/step - loss: 0.5030 - sparse_categorical_accuracy: 0.7834\n",
            "Epoch 27/50\n",
            "3/3 [==============================] - 0s 4ms/step - loss: 0.5068 - sparse_categorical_accuracy: 0.7928\n",
            "Epoch 28/50\n",
            "3/3 [==============================] - 0s 5ms/step - loss: 0.5236 - sparse_categorical_accuracy: 0.7771\n",
            "Epoch 29/50\n",
            "3/3 [==============================] - 0s 4ms/step - loss: 0.5178 - sparse_categorical_accuracy: 0.7755\n",
            "Epoch 30/50\n",
            "3/3 [==============================] - 0s 5ms/step - loss: 0.5126 - sparse_categorical_accuracy: 0.7896\n",
            "Epoch 31/50\n",
            "3/3 [==============================] - 0s 5ms/step - loss: 0.5326 - sparse_categorical_accuracy: 0.7802\n",
            "Epoch 32/50\n",
            "3/3 [==============================] - 0s 5ms/step - loss: 0.5184 - sparse_categorical_accuracy: 0.7849\n",
            "Epoch 33/50\n",
            "3/3 [==============================] - 0s 5ms/step - loss: 0.4967 - sparse_categorical_accuracy: 0.7896\n",
            "Epoch 34/50\n",
            "3/3 [==============================] - 0s 5ms/step - loss: 0.5149 - sparse_categorical_accuracy: 0.7865\n",
            "Epoch 35/50\n",
            "3/3 [==============================] - 0s 5ms/step - loss: 0.5054 - sparse_categorical_accuracy: 0.7943\n",
            "Epoch 36/50\n",
            "3/3 [==============================] - 0s 4ms/step - loss: 0.5164 - sparse_categorical_accuracy: 0.7786\n",
            "Epoch 37/50\n",
            "3/3 [==============================] - 0s 5ms/step - loss: 0.5189 - sparse_categorical_accuracy: 0.7834\n",
            "Epoch 38/50\n",
            "3/3 [==============================] - 0s 5ms/step - loss: 0.5191 - sparse_categorical_accuracy: 0.7849\n",
            "Epoch 39/50\n",
            "3/3 [==============================] - 0s 5ms/step - loss: 0.5129 - sparse_categorical_accuracy: 0.7928\n",
            "Epoch 40/50\n",
            "3/3 [==============================] - 0s 4ms/step - loss: 0.5183 - sparse_categorical_accuracy: 0.7802\n",
            "Epoch 41/50\n",
            "3/3 [==============================] - 0s 4ms/step - loss: 0.5023 - sparse_categorical_accuracy: 0.7896\n",
            "Epoch 42/50\n",
            "3/3 [==============================] - 0s 4ms/step - loss: 0.5125 - sparse_categorical_accuracy: 0.7849\n",
            "Epoch 43/50\n",
            "3/3 [==============================] - 0s 5ms/step - loss: 0.5031 - sparse_categorical_accuracy: 0.7959\n",
            "Epoch 44/50\n",
            "3/3 [==============================] - 0s 4ms/step - loss: 0.5073 - sparse_categorical_accuracy: 0.7928\n",
            "Epoch 45/50\n",
            "3/3 [==============================] - 0s 5ms/step - loss: 0.4980 - sparse_categorical_accuracy: 0.7834\n",
            "Epoch 46/50\n",
            "3/3 [==============================] - 0s 4ms/step - loss: 0.4895 - sparse_categorical_accuracy: 0.7881\n",
            "Epoch 47/50\n",
            "3/3 [==============================] - 0s 4ms/step - loss: 0.4933 - sparse_categorical_accuracy: 0.7928\n",
            "Epoch 48/50\n",
            "3/3 [==============================] - 0s 5ms/step - loss: 0.4962 - sparse_categorical_accuracy: 0.7865\n",
            "Epoch 49/50\n",
            "3/3 [==============================] - 0s 4ms/step - loss: 0.4967 - sparse_categorical_accuracy: 0.7881\n",
            "Epoch 50/50\n",
            "3/3 [==============================] - 0s 4ms/step - loss: 0.5166 - sparse_categorical_accuracy: 0.7834\n",
            "Model training finished\n",
            "Test accuracy: 83.47%\n"
          ]
        }
      ]
    },
    {
      "cell_type": "code",
      "source": [
        ""
      ],
      "metadata": {
        "id": "uVrVDxbFWqqd"
      },
      "execution_count": null,
      "outputs": []
    },
    {
      "cell_type": "code",
      "source": [
        "#wide and deep\n",
        "def create_wide_and_deep_model():\n",
        "\n",
        "    inputs = create_model_inputs()\n",
        "    wide = encode_inputs(inputs)\n",
        "    wide = layers.BatchNormalization()(wide)\n",
        "\n",
        "    deep = encode_inputs(inputs, use_embedding=True)\n",
        "    for units in hidden_units:\n",
        "        deep = layers.Dense(units)(deep)\n",
        "        deep = layers.BatchNormalization()(deep)\n",
        "        deep = layers.ReLU()(deep)\n",
        "        # deep = layers.Dropout(dropout_rate)(deep)\n",
        "\n",
        "    merged = layers.concatenate([wide, deep])\n",
        "    outputs = layers.Dense(units=NUM_CLASSES, activation=\"sigmoid\")(merged)\n",
        "    model = keras.Model(inputs=inputs, outputs=outputs)\n",
        "    return model\n",
        "\n",
        "\n",
        "wide_and_deep_model = create_wide_and_deep_model()\n",
        "keras.utils.plot_model(wide_and_deep_model, show_shapes=True, rankdir=\"LR\")"
      ],
      "metadata": {
        "id": "Tp9rlQBzjQTm",
        "colab": {
          "base_uri": "https://localhost:8080/",
          "height": 349
        },
        "outputId": "c138e5e9-18b9-488b-be2d-65f80f8e6082"
      },
      "execution_count": 106,
      "outputs": [
        {
          "output_type": "execute_result",
          "data": {
            "text/plain": [
              "<IPython.core.display.Image object>"
            ],
            "image/png": "[encoded data removed]"
          },
          "metadata": {},
          "execution_count": 106
        }
      ]
    },
    {
      "cell_type": "code",
      "source": [
        "run_experiment(wide_and_deep_model)"
      ],
      "metadata": {
        "id": "jpCPxejijQRq",
        "colab": {
          "base_uri": "https://localhost:8080/"
        },
        "outputId": "21c9f1f4-c75e-43bf-c24c-29af1de066cb"
      },
      "execution_count": 107,
      "outputs": [
        {
          "output_type": "stream",
          "name": "stdout",
          "text": [
            "Start training the model...\n",
            "Epoch 1/50\n",
            "3/3 [==============================] - 1s 56ms/step - loss: 0.6428 - sparse_categorical_accuracy: 0.6053\n",
            "Epoch 2/50\n",
            "3/3 [==============================] - 0s 10ms/step - loss: 0.5861 - sparse_categorical_accuracy: 0.7461\n",
            "Epoch 3/50\n",
            "3/3 [==============================] - 0s 9ms/step - loss: 0.5675 - sparse_categorical_accuracy: 0.7523\n",
            "Epoch 4/50\n",
            "3/3 [==============================] - 0s 9ms/step - loss: 0.5499 - sparse_categorical_accuracy: 0.7833\n",
            "Epoch 5/50\n",
            "3/3 [==============================] - 0s 8ms/step - loss: 0.5345 - sparse_categorical_accuracy: 0.7957\n",
            "Epoch 6/50\n",
            "3/3 [==============================] - 0s 8ms/step - loss: 0.5243 - sparse_categorical_accuracy: 0.7972\n",
            "Epoch 7/50\n",
            "3/3 [==============================] - 0s 9ms/step - loss: 0.5166 - sparse_categorical_accuracy: 0.7972\n",
            "Epoch 8/50\n",
            "3/3 [==============================] - 0s 9ms/step - loss: 0.5117 - sparse_categorical_accuracy: 0.7957\n",
            "Epoch 9/50\n",
            "3/3 [==============================] - 0s 12ms/step - loss: 0.5079 - sparse_categorical_accuracy: 0.7957\n",
            "Epoch 10/50\n",
            "3/3 [==============================] - 0s 9ms/step - loss: 0.5044 - sparse_categorical_accuracy: 0.7957\n",
            "Epoch 11/50\n",
            "3/3 [==============================] - 0s 10ms/step - loss: 0.5020 - sparse_categorical_accuracy: 0.7957\n",
            "Epoch 12/50\n",
            "3/3 [==============================] - 0s 10ms/step - loss: 0.5000 - sparse_categorical_accuracy: 0.7957\n",
            "Epoch 13/50\n",
            "3/3 [==============================] - 0s 8ms/step - loss: 0.4980 - sparse_categorical_accuracy: 0.7957\n",
            "Epoch 14/50\n",
            "3/3 [==============================] - 0s 8ms/step - loss: 0.4965 - sparse_categorical_accuracy: 0.7957\n",
            "Epoch 15/50\n",
            "3/3 [==============================] - 0s 8ms/step - loss: 0.4951 - sparse_categorical_accuracy: 0.7957\n",
            "Epoch 16/50\n",
            "3/3 [==============================] - 0s 9ms/step - loss: 0.4940 - sparse_categorical_accuracy: 0.7957\n",
            "Epoch 17/50\n",
            "3/3 [==============================] - 0s 8ms/step - loss: 0.4931 - sparse_categorical_accuracy: 0.7957\n",
            "Epoch 18/50\n",
            "3/3 [==============================] - 0s 9ms/step - loss: 0.4925 - sparse_categorical_accuracy: 0.7957\n",
            "Epoch 19/50\n",
            "3/3 [==============================] - 0s 9ms/step - loss: 0.4921 - sparse_categorical_accuracy: 0.7957\n",
            "Epoch 20/50\n",
            "3/3 [==============================] - 0s 9ms/step - loss: 0.4916 - sparse_categorical_accuracy: 0.7957\n",
            "Epoch 21/50\n",
            "3/3 [==============================] - 0s 9ms/step - loss: 0.4911 - sparse_categorical_accuracy: 0.7957\n",
            "Epoch 22/50\n",
            "3/3 [==============================] - 0s 9ms/step - loss: 0.4905 - sparse_categorical_accuracy: 0.7957\n",
            "Epoch 23/50\n",
            "3/3 [==============================] - 0s 9ms/step - loss: 0.4901 - sparse_categorical_accuracy: 0.7957\n",
            "Epoch 24/50\n",
            "3/3 [==============================] - 0s 9ms/step - loss: 0.4898 - sparse_categorical_accuracy: 0.7957\n",
            "Epoch 25/50\n",
            "3/3 [==============================] - 0s 8ms/step - loss: 0.4894 - sparse_categorical_accuracy: 0.7957\n",
            "Epoch 26/50\n",
            "3/3 [==============================] - 0s 9ms/step - loss: 0.4890 - sparse_categorical_accuracy: 0.7957\n",
            "Epoch 27/50\n",
            "3/3 [==============================] - 0s 10ms/step - loss: 0.4887 - sparse_categorical_accuracy: 0.7957\n",
            "Epoch 28/50\n",
            "3/3 [==============================] - 0s 9ms/step - loss: 0.4883 - sparse_categorical_accuracy: 0.7957\n",
            "Epoch 29/50\n",
            "3/3 [==============================] - 0s 8ms/step - loss: 0.4879 - sparse_categorical_accuracy: 0.7957\n",
            "Epoch 30/50\n",
            "3/3 [==============================] - 0s 8ms/step - loss: 0.4877 - sparse_categorical_accuracy: 0.7957\n",
            "Epoch 31/50\n",
            "3/3 [==============================] - 0s 8ms/step - loss: 0.4874 - sparse_categorical_accuracy: 0.7957\n",
            "Epoch 32/50\n",
            "3/3 [==============================] - 0s 8ms/step - loss: 0.4870 - sparse_categorical_accuracy: 0.7957\n",
            "Epoch 33/50\n",
            "3/3 [==============================] - 0s 8ms/step - loss: 0.4866 - sparse_categorical_accuracy: 0.7957\n",
            "Epoch 34/50\n",
            "3/3 [==============================] - 0s 8ms/step - loss: 0.4864 - sparse_categorical_accuracy: 0.7957\n",
            "Epoch 35/50\n",
            "3/3 [==============================] - 0s 8ms/step - loss: 0.4862 - sparse_categorical_accuracy: 0.7957\n",
            "Epoch 36/50\n",
            "3/3 [==============================] - 0s 8ms/step - loss: 0.4858 - sparse_categorical_accuracy: 0.7957\n",
            "Epoch 37/50\n",
            "3/3 [==============================] - 0s 9ms/step - loss: 0.4855 - sparse_categorical_accuracy: 0.7957\n",
            "Epoch 38/50\n",
            "3/3 [==============================] - 0s 9ms/step - loss: 0.4853 - sparse_categorical_accuracy: 0.7957\n",
            "Epoch 39/50\n",
            "3/3 [==============================] - 0s 9ms/step - loss: 0.4851 - sparse_categorical_accuracy: 0.7957\n",
            "Epoch 40/50\n",
            "3/3 [==============================] - 0s 8ms/step - loss: 0.4848 - sparse_categorical_accuracy: 0.7957\n",
            "Epoch 41/50\n",
            "3/3 [==============================] - 0s 8ms/step - loss: 0.4845 - sparse_categorical_accuracy: 0.7957\n",
            "Epoch 42/50\n",
            "3/3 [==============================] - 0s 9ms/step - loss: 0.4842 - sparse_categorical_accuracy: 0.7957\n",
            "Epoch 43/50\n",
            "3/3 [==============================] - 0s 7ms/step - loss: 0.4839 - sparse_categorical_accuracy: 0.7957\n",
            "Epoch 44/50\n",
            "3/3 [==============================] - 0s 9ms/step - loss: 0.4836 - sparse_categorical_accuracy: 0.7957\n",
            "Epoch 45/50\n",
            "3/3 [==============================] - 0s 7ms/step - loss: 0.4833 - sparse_categorical_accuracy: 0.7957\n",
            "Epoch 46/50\n",
            "3/3 [==============================] - 0s 8ms/step - loss: 0.4829 - sparse_categorical_accuracy: 0.7957\n",
            "Epoch 47/50\n",
            "3/3 [==============================] - 0s 9ms/step - loss: 0.4825 - sparse_categorical_accuracy: 0.7957\n",
            "Epoch 48/50\n",
            "3/3 [==============================] - 0s 10ms/step - loss: 0.4822 - sparse_categorical_accuracy: 0.7957\n",
            "Epoch 49/50\n",
            "3/3 [==============================] - 0s 8ms/step - loss: 0.4819 - sparse_categorical_accuracy: 0.7972\n",
            "Epoch 50/50\n",
            "3/3 [==============================] - 0s 9ms/step - loss: 0.4817 - sparse_categorical_accuracy: 0.7972\n",
            "Model training finished\n",
            "Test accuracy: 81.25%\n"
          ]
        }
      ]
    },
    {
      "cell_type": "code",
      "source": [
        "def create_deep_and_cross_model():\n",
        "\n",
        "    inputs = create_model_inputs()\n",
        "    x0 = encode_inputs(inputs, use_embedding=True)\n",
        "\n",
        "    cross = x0\n",
        "    for _ in hidden_units:\n",
        "        units = cross.shape[-1]\n",
        "        x = layers.Dense(units)(cross)\n",
        "        cross = x0 * x + cross\n",
        "    cross = layers.BatchNormalization()(cross)\n",
        "\n",
        "    deep = x0\n",
        "    for units in hidden_units:\n",
        "        deep = layers.Dense(units)(deep)\n",
        "        deep = layers.BatchNormalization()(deep)\n",
        "        deep = layers.ReLU()(deep)\n",
        "        # deep = layers.Dropout(dropout_rate)(deep)\n",
        "\n",
        "    merged = layers.concatenate([cross, deep])\n",
        "    outputs = layers.Dense(units=NUM_CLASSES, activation=\"softmax\")(merged)\n",
        "    model = keras.Model(inputs=inputs, outputs=outputs)\n",
        "    return model\n",
        "\n",
        "\n",
        "deep_and_cross_model = create_deep_and_cross_model()\n",
        "keras.utils.plot_model(deep_and_cross_model, show_shapes=True, rankdir=\"LR\")"
      ],
      "metadata": {
        "colab": {
          "base_uri": "https://localhost:8080/",
          "height": 204
        },
        "id": "AjwYiLzpMled",
        "outputId": "115bb05e-3704-4a03-e272-51eb5a2221d7"
      },
      "execution_count": 108,
      "outputs": [
        {
          "output_type": "execute_result",
          "data": {
            "text/plain": [
              "<IPython.core.display.Image object>"
            ],
            "image/png": "[encoded data removed]"
          },
          "metadata": {},
          "execution_count": 108
        }
      ]
    },
    {
      "cell_type": "code",
      "source": [
        "run_experiment(deep_and_cross_model)"
      ],
      "metadata": {
        "colab": {
          "base_uri": "https://localhost:8080/"
        },
        "id": "FJGGixW1MlWH",
        "outputId": "e7551072-8a58-408f-92d2-301b3b4e6d69"
      },
      "execution_count": 109,
      "outputs": [
        {
          "output_type": "stream",
          "name": "stdout",
          "text": [
            "Start training the model...\n",
            "Epoch 1/50\n",
            "3/3 [==============================] - 1s 52ms/step - loss: 0.6424 - sparse_categorical_accuracy: 0.6796\n",
            "Epoch 2/50\n",
            "3/3 [==============================] - 0s 8ms/step - loss: 0.5629 - sparse_categorical_accuracy: 0.7678\n",
            "Epoch 3/50\n",
            "3/3 [==============================] - 0s 9ms/step - loss: 0.5465 - sparse_categorical_accuracy: 0.7817\n",
            "Epoch 4/50\n",
            "3/3 [==============================] - 0s 9ms/step - loss: 0.5223 - sparse_categorical_accuracy: 0.7941\n",
            "Epoch 5/50\n",
            "3/3 [==============================] - 0s 10ms/step - loss: 0.5119 - sparse_categorical_accuracy: 0.7972\n",
            "Epoch 6/50\n",
            "3/3 [==============================] - 0s 10ms/step - loss: 0.5060 - sparse_categorical_accuracy: 0.7988\n",
            "Epoch 7/50\n",
            "3/3 [==============================] - 0s 12ms/step - loss: 0.4988 - sparse_categorical_accuracy: 0.7972\n",
            "Epoch 8/50\n",
            "3/3 [==============================] - 0s 9ms/step - loss: 0.4946 - sparse_categorical_accuracy: 0.7972\n",
            "Epoch 9/50\n",
            "3/3 [==============================] - 0s 8ms/step - loss: 0.4932 - sparse_categorical_accuracy: 0.7972\n",
            "Epoch 10/50\n",
            "3/3 [==============================] - 0s 8ms/step - loss: 0.4919 - sparse_categorical_accuracy: 0.7972\n",
            "Epoch 11/50\n",
            "3/3 [==============================] - 0s 8ms/step - loss: 0.4907 - sparse_categorical_accuracy: 0.7972\n",
            "Epoch 12/50\n",
            "3/3 [==============================] - 0s 9ms/step - loss: 0.4901 - sparse_categorical_accuracy: 0.7972\n",
            "Epoch 13/50\n",
            "3/3 [==============================] - 0s 9ms/step - loss: 0.4898 - sparse_categorical_accuracy: 0.7972\n",
            "Epoch 14/50\n",
            "3/3 [==============================] - 0s 10ms/step - loss: 0.4891 - sparse_categorical_accuracy: 0.7972\n",
            "Epoch 15/50\n",
            "3/3 [==============================] - 0s 8ms/step - loss: 0.4884 - sparse_categorical_accuracy: 0.7972\n",
            "Epoch 16/50\n",
            "3/3 [==============================] - 0s 10ms/step - loss: 0.4878 - sparse_categorical_accuracy: 0.7972\n",
            "Epoch 17/50\n",
            "3/3 [==============================] - 0s 8ms/step - loss: 0.4871 - sparse_categorical_accuracy: 0.7972\n",
            "Epoch 18/50\n",
            "3/3 [==============================] - 0s 8ms/step - loss: 0.4865 - sparse_categorical_accuracy: 0.7972\n",
            "Epoch 19/50\n",
            "3/3 [==============================] - 0s 8ms/step - loss: 0.4860 - sparse_categorical_accuracy: 0.7972\n",
            "Epoch 20/50\n",
            "3/3 [==============================] - 0s 9ms/step - loss: 0.4855 - sparse_categorical_accuracy: 0.7972\n",
            "Epoch 21/50\n",
            "3/3 [==============================] - 0s 9ms/step - loss: 0.4850 - sparse_categorical_accuracy: 0.7972\n",
            "Epoch 22/50\n",
            "3/3 [==============================] - 0s 8ms/step - loss: 0.4844 - sparse_categorical_accuracy: 0.7972\n",
            "Epoch 23/50\n",
            "3/3 [==============================] - 0s 8ms/step - loss: 0.4839 - sparse_categorical_accuracy: 0.7972\n",
            "Epoch 24/50\n",
            "3/3 [==============================] - 0s 8ms/step - loss: 0.4834 - sparse_categorical_accuracy: 0.7972\n",
            "Epoch 25/50\n",
            "3/3 [==============================] - 0s 9ms/step - loss: 0.4830 - sparse_categorical_accuracy: 0.7972\n",
            "Epoch 26/50\n",
            "3/3 [==============================] - 0s 9ms/step - loss: 0.4827 - sparse_categorical_accuracy: 0.7972\n",
            "Epoch 27/50\n",
            "3/3 [==============================] - 0s 10ms/step - loss: 0.4824 - sparse_categorical_accuracy: 0.7972\n",
            "Epoch 28/50\n",
            "3/3 [==============================] - 0s 10ms/step - loss: 0.4820 - sparse_categorical_accuracy: 0.7972\n",
            "Epoch 29/50\n",
            "3/3 [==============================] - 0s 10ms/step - loss: 0.4817 - sparse_categorical_accuracy: 0.7972\n",
            "Epoch 30/50\n",
            "3/3 [==============================] - 0s 9ms/step - loss: 0.4815 - sparse_categorical_accuracy: 0.7972\n",
            "Epoch 31/50\n",
            "3/3 [==============================] - 0s 8ms/step - loss: 0.4814 - sparse_categorical_accuracy: 0.7972\n",
            "Epoch 32/50\n",
            "3/3 [==============================] - 0s 8ms/step - loss: 0.4812 - sparse_categorical_accuracy: 0.7972\n",
            "Epoch 33/50\n",
            "3/3 [==============================] - 0s 10ms/step - loss: 0.4808 - sparse_categorical_accuracy: 0.7972\n",
            "Epoch 34/50\n",
            "3/3 [==============================] - 0s 9ms/step - loss: 0.4806 - sparse_categorical_accuracy: 0.7972\n",
            "Epoch 35/50\n",
            "3/3 [==============================] - 0s 9ms/step - loss: 0.4807 - sparse_categorical_accuracy: 0.7972\n",
            "Epoch 36/50\n",
            "3/3 [==============================] - 0s 9ms/step - loss: 0.4806 - sparse_categorical_accuracy: 0.7972\n",
            "Epoch 37/50\n",
            "3/3 [==============================] - 0s 10ms/step - loss: 0.4800 - sparse_categorical_accuracy: 0.7972\n",
            "Epoch 38/50\n",
            "3/3 [==============================] - 0s 9ms/step - loss: 0.4798 - sparse_categorical_accuracy: 0.7972\n",
            "Epoch 39/50\n",
            "3/3 [==============================] - 0s 9ms/step - loss: 0.4797 - sparse_categorical_accuracy: 0.7972\n",
            "Epoch 40/50\n",
            "3/3 [==============================] - 0s 9ms/step - loss: 0.4792 - sparse_categorical_accuracy: 0.7988\n",
            "Epoch 41/50\n",
            "3/3 [==============================] - 0s 10ms/step - loss: 0.4789 - sparse_categorical_accuracy: 0.7988\n",
            "Epoch 42/50\n",
            "3/3 [==============================] - 0s 8ms/step - loss: 0.4785 - sparse_categorical_accuracy: 0.7988\n",
            "Epoch 43/50\n",
            "3/3 [==============================] - 0s 8ms/step - loss: 0.4782 - sparse_categorical_accuracy: 0.7988\n",
            "Epoch 44/50\n",
            "3/3 [==============================] - 0s 10ms/step - loss: 0.4778 - sparse_categorical_accuracy: 0.8003\n",
            "Epoch 45/50\n",
            "3/3 [==============================] - 0s 9ms/step - loss: 0.4775 - sparse_categorical_accuracy: 0.8003\n",
            "Epoch 46/50\n",
            "3/3 [==============================] - 0s 9ms/step - loss: 0.4772 - sparse_categorical_accuracy: 0.8003\n",
            "Epoch 47/50\n",
            "3/3 [==============================] - 0s 10ms/step - loss: 0.4767 - sparse_categorical_accuracy: 0.8003\n",
            "Epoch 48/50\n",
            "3/3 [==============================] - 0s 8ms/step - loss: 0.4762 - sparse_categorical_accuracy: 0.8003\n",
            "Epoch 49/50\n",
            "3/3 [==============================] - 0s 8ms/step - loss: 0.4760 - sparse_categorical_accuracy: 0.8003\n",
            "Epoch 50/50\n",
            "3/3 [==============================] - 0s 7ms/step - loss: 0.4759 - sparse_categorical_accuracy: 0.8003\n",
            "Model training finished\n",
            "WARNING:tensorflow:5 out of the last 5 calls to <function Model.make_test_function.<locals>.test_function at 0x7f6f0e8b1c20> triggered tf.function retracing. Tracing is expensive and the excessive number of tracings could be due to (1) creating @tf.function repeatedly in a loop, (2) passing tensors with different shapes, (3) passing Python objects instead of tensors. For (1), please define your @tf.function outside of the loop. For (2), @tf.function has experimental_relax_shapes=True option that relaxes argument shapes that can avoid unnecessary retracing. For (3), please refer to https://www.tensorflow.org/guide/function#controlling_retracing and https://www.tensorflow.org/api_docs/python/tf/function for  more details.\n",
            "Test accuracy: 81.25%\n"
          ]
        }
      ]
    },
    {
      "cell_type": "code",
      "source": [
        ""
      ],
      "metadata": {
        "id": "8NoB6RoHcEwy"
      },
      "execution_count": null,
      "outputs": []
    },
    {
      "cell_type": "code",
      "source": [
        ""
      ],
      "metadata": {
        "id": "qbmS13lvcEr_"
      },
      "execution_count": null,
      "outputs": []
    },
    {
      "cell_type": "code",
      "source": [
        ""
      ],
      "metadata": {
        "id": "sY9Lk-VCcEkz"
      },
      "execution_count": null,
      "outputs": []
    },
    {
      "cell_type": "code",
      "source": [
        ""
      ],
      "metadata": {
        "id": "XDEQT2SsecgK"
      },
      "execution_count": null,
      "outputs": []
    }
  ]
}