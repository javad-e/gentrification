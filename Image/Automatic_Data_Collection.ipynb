{
 "cells": [
  {
   "cell_type": "markdown",
   "source": [
    "# Automatic Data Collection"
   ],
   "metadata": {
    "collapsed": false,
    "pycharm": {
     "name": "#%% md\n"
    }
   }
  },
  {
   "cell_type": "code",
   "execution_count": 1,
   "outputs": [],
   "source": [
    "import pandas as pd\n",
    "import time\n",
    "import random\n",
    "from tqdm import tqdm"
   ],
   "metadata": {
    "collapsed": false,
    "pycharm": {
     "name": "#%%\n"
    }
   }
  },
  {
   "cell_type": "code",
   "execution_count": 2,
   "outputs": [],
   "source": [
    "loc_df = pd.read_csv(\"new_label_cookcounty.csv\", index_col=0)"
   ],
   "metadata": {
    "collapsed": false,
    "pycharm": {
     "name": "#%%\n"
    }
   }
  },
  {
   "cell_type": "code",
   "execution_count": 3,
   "outputs": [
    {
     "data": {
      "text/plain": "         GEOID  label                                           the_geom  \\\n0  17031010100      1  MULTIPOLYGON (((-87.66368000002299 42.01939800...   \n1  17031010201      0  MULTIPOLYGON (((-87.6800950000417 42.012537999...   \n2  17031010202      0  MULTIPOLYGON (((-87.67335799998422 42.01937400...   \n3  17031010300      0  MULTIPOLYGON (((-87.66505999995483 42.01280100...   \n4  17031010400      0  MULTIPOLYGON (((-87.65080299995667 41.99848500...   \n\n   STATEFP10  COUNTYFP10  TRACTCE10  NAME10           NAMELSAD10   INTPTLAT  \\\n0         17          31      10100  101.00     Census Tract 101  42.021256   \n1         17          31      10201  102.01  Census Tract 102.01  42.016008   \n2         17          31      10202  102.02  Census Tract 102.02  42.016051   \n3         17          31      10300  103.00     Census Tract 103  42.015941   \n4         17          31      10400  104.00     Census Tract 104  42.006411   \n\n   INTPTLONG      long+      long-       lat+       lat-  typology  new_label  \n0 -87.669832 -87.666212 -87.673452  42.023961  42.018551         3          1  \n1 -87.680148 -87.676528 -87.683768  42.018713  42.013303         1          0  \n2 -87.673322 -87.669702 -87.676942  42.018756  42.013346         1          0  \n3 -87.666535 -87.662915 -87.670155  42.018646  42.013236         1          0  \n4 -87.658816 -87.655196 -87.662436  42.009116  42.003706         2          0  ",
      "text/html": "<div>\n<style scoped>\n    .dataframe tbody tr th:only-of-type {\n        vertical-align: middle;\n    }\n\n    .dataframe tbody tr th {\n        vertical-align: top;\n    }\n\n    .dataframe thead th {\n        text-align: right;\n    }\n</style>\n<table border=\"1\" class=\"dataframe\">\n  <thead>\n    <tr style=\"text-align: right;\">\n      <th></th>\n      <th>GEOID</th>\n      <th>label</th>\n      <th>the_geom</th>\n      <th>STATEFP10</th>\n      <th>COUNTYFP10</th>\n      <th>TRACTCE10</th>\n      <th>NAME10</th>\n      <th>NAMELSAD10</th>\n      <th>INTPTLAT</th>\n      <th>INTPTLONG</th>\n      <th>long+</th>\n      <th>long-</th>\n      <th>lat+</th>\n      <th>lat-</th>\n      <th>typology</th>\n      <th>new_label</th>\n    </tr>\n  </thead>\n  <tbody>\n    <tr>\n      <th>0</th>\n      <td>17031010100</td>\n      <td>1</td>\n      <td>MULTIPOLYGON (((-87.66368000002299 42.01939800...</td>\n      <td>17</td>\n      <td>31</td>\n      <td>10100</td>\n      <td>101.00</td>\n      <td>Census Tract 101</td>\n      <td>42.021256</td>\n      <td>-87.669832</td>\n      <td>-87.666212</td>\n      <td>-87.673452</td>\n      <td>42.023961</td>\n      <td>42.018551</td>\n      <td>3</td>\n      <td>1</td>\n    </tr>\n    <tr>\n      <th>1</th>\n      <td>17031010201</td>\n      <td>0</td>\n      <td>MULTIPOLYGON (((-87.6800950000417 42.012537999...</td>\n      <td>17</td>\n      <td>31</td>\n      <td>10201</td>\n      <td>102.01</td>\n      <td>Census Tract 102.01</td>\n      <td>42.016008</td>\n      <td>-87.680148</td>\n      <td>-87.676528</td>\n      <td>-87.683768</td>\n      <td>42.018713</td>\n      <td>42.013303</td>\n      <td>1</td>\n      <td>0</td>\n    </tr>\n    <tr>\n      <th>2</th>\n      <td>17031010202</td>\n      <td>0</td>\n      <td>MULTIPOLYGON (((-87.67335799998422 42.01937400...</td>\n      <td>17</td>\n      <td>31</td>\n      <td>10202</td>\n      <td>102.02</td>\n      <td>Census Tract 102.02</td>\n      <td>42.016051</td>\n      <td>-87.673322</td>\n      <td>-87.669702</td>\n      <td>-87.676942</td>\n      <td>42.018756</td>\n      <td>42.013346</td>\n      <td>1</td>\n      <td>0</td>\n    </tr>\n    <tr>\n      <th>3</th>\n      <td>17031010300</td>\n      <td>0</td>\n      <td>MULTIPOLYGON (((-87.66505999995483 42.01280100...</td>\n      <td>17</td>\n      <td>31</td>\n      <td>10300</td>\n      <td>103.00</td>\n      <td>Census Tract 103</td>\n      <td>42.015941</td>\n      <td>-87.666535</td>\n      <td>-87.662915</td>\n      <td>-87.670155</td>\n      <td>42.018646</td>\n      <td>42.013236</td>\n      <td>1</td>\n      <td>0</td>\n    </tr>\n    <tr>\n      <th>4</th>\n      <td>17031010400</td>\n      <td>0</td>\n      <td>MULTIPOLYGON (((-87.65080299995667 41.99848500...</td>\n      <td>17</td>\n      <td>31</td>\n      <td>10400</td>\n      <td>104.00</td>\n      <td>Census Tract 104</td>\n      <td>42.006411</td>\n      <td>-87.658816</td>\n      <td>-87.655196</td>\n      <td>-87.662436</td>\n      <td>42.009116</td>\n      <td>42.003706</td>\n      <td>2</td>\n      <td>0</td>\n    </tr>\n  </tbody>\n</table>\n</div>"
     },
     "execution_count": 3,
     "metadata": {},
     "output_type": "execute_result"
    }
   ],
   "source": [
    "loc_df.head()"
   ],
   "metadata": {
    "collapsed": false,
    "pycharm": {
     "name": "#%%\n"
    }
   }
  },
  {
   "cell_type": "code",
   "execution_count": 4,
   "outputs": [
    {
     "data": {
      "text/plain": "(798, 16)"
     },
     "execution_count": 4,
     "metadata": {},
     "output_type": "execute_result"
    }
   ],
   "source": [
    "loc_df.shape"
   ],
   "metadata": {
    "collapsed": false,
    "pycharm": {
     "name": "#%%\n"
    }
   }
  },
  {
   "cell_type": "code",
   "execution_count": 5,
   "outputs": [
    {
     "data": {
      "text/plain": "1"
     },
     "execution_count": 5,
     "metadata": {},
     "output_type": "execute_result"
    }
   ],
   "source": [
    "loc_df.iloc[0,-1]"
   ],
   "metadata": {
    "collapsed": false,
    "pycharm": {
     "name": "#%%\n"
    }
   }
  },
  {
   "cell_type": "code",
   "execution_count": 6,
   "outputs": [
    {
     "data": {
      "text/plain": "10100"
     },
     "execution_count": 6,
     "metadata": {},
     "output_type": "execute_result"
    }
   ],
   "source": [
    "loc_df.iloc[0,5]"
   ],
   "metadata": {
    "collapsed": false,
    "pycharm": {
     "name": "#%%\n"
    }
   }
  },
  {
   "cell_type": "code",
   "execution_count": 7,
   "outputs": [
    {
     "data": {
      "text/plain": "-87.6734516"
     },
     "execution_count": 7,
     "metadata": {},
     "output_type": "execute_result"
    }
   ],
   "source": [
    "loc_df.iloc[0,11]"
   ],
   "metadata": {
    "collapsed": false,
    "pycharm": {
     "name": "#%%\n"
    }
   }
  },
  {
   "cell_type": "code",
   "execution_count": 8,
   "outputs": [
    {
     "data": {
      "text/plain": "-87.6662116"
     },
     "execution_count": 8,
     "metadata": {},
     "output_type": "execute_result"
    }
   ],
   "source": [
    "loc_df.iloc[0,10]"
   ],
   "metadata": {
    "collapsed": false,
    "pycharm": {
     "name": "#%%\n"
    }
   }
  },
  {
   "cell_type": "code",
   "execution_count": 9,
   "outputs": [
    {
     "data": {
      "text/plain": "42.0239614"
     },
     "execution_count": 9,
     "metadata": {},
     "output_type": "execute_result"
    }
   ],
   "source": [
    "loc_df.iloc[0,12]"
   ],
   "metadata": {
    "collapsed": false,
    "pycharm": {
     "name": "#%%\n"
    }
   }
  },
  {
   "cell_type": "code",
   "execution_count": 10,
   "outputs": [
    {
     "data": {
      "text/plain": "42.0185514"
     },
     "execution_count": 10,
     "metadata": {},
     "output_type": "execute_result"
    }
   ],
   "source": [
    "loc_df.iloc[0,13]"
   ],
   "metadata": {
    "collapsed": false,
    "pycharm": {
     "name": "#%%\n"
    }
   }
  },
  {
   "cell_type": "code",
   "execution_count": 13,
   "outputs": [
    {
     "name": "stderr",
     "output_type": "stream",
     "text": [
      "100%|██████████| 801/801 [7:39:59<00:00, 34.46s/it]   \n"
     ]
    }
   ],
   "source": [
    "# collect the data based on the econ data we got\n",
    "\n",
    "for i in tqdm(range(loc_df.shape[0])):\n",
    "    tract_id = loc_df.iloc[i,5]\n",
    "    left_long = loc_df.iloc[i,11]\n",
    "    right_long = loc_df.iloc[i,10]\n",
    "    top_lat = loc_df.iloc[i,12]\n",
    "    bottom_lat = loc_df.iloc[i,13]\n",
    "\n",
    "    download = \"\"\"\"d:\\geid\\downloader.exe\" {} 20 20 {} {} {} {} \"G:\\Final_Project\\Data\" \"2018-03-30\" \"\"\".format(str(tract_id)+'.geid',left_long,right_long,top_lat, bottom_lat)\n",
    "    combine = \"\"\"\"d:\\geid\\combiner.exe\" \"G:\\Final_Project\\Data\\{}\" 20 png\"\"\".format(str(tract_id)+'.geid')\n",
    "\n",
    "    while True:\n",
    "        try:\n",
    "            ! {download}\n",
    "            break\n",
    "        except:\n",
    "            continue\n",
    "    while True:\n",
    "        try:\n",
    "            ! {combine}\n",
    "            break\n",
    "        except:\n",
    "            continue\n",
    "    time.sleep(random.randint(3,7))\n",
    "\n",
    "    if i != 0 and i % 30 == 0:\n",
    "        time.sleep(120)\n",
    "\n",
    "# first scrap 1000 img, index to 999"
   ],
   "metadata": {
    "collapsed": false,
    "pycharm": {
     "name": "#%%\n"
    }
   }
  },
  {
   "cell_type": "code",
   "execution_count": 4,
   "outputs": [],
   "source": [
    "from pathlib import Path"
   ],
   "metadata": {
    "collapsed": false,
    "pycharm": {
     "name": "#%%\n"
    }
   }
  },
  {
   "cell_type": "code",
   "execution_count": 6,
   "outputs": [],
   "source": [
    "# label the data\n",
    "\n",
    "for i in range(loc_df.shape[0]):\n",
    "    tract_id = loc_df.iloc[i,5]\n",
    "    gentrified = loc_df.iloc[i,-1]\n",
    "    if gentrified == 0:\n",
    "        try:\n",
    "            Path(r\"G:\\Final_Project\\unlabeled\\{}.png\".format(tract_id)).rename(r\"G:\\Final_Project\\test\\poor\\{}.png\".format(tract_id))\n",
    "        except:\n",
    "            continue\n",
    "    elif gentrified == 1:\n",
    "        try:\n",
    "            Path(r\"G:\\Final_Project\\unlabeled\\{}.png\".format(tract_id)).rename(r\"G:\\Final_Project\\test\\gentrified\\{}.png\".format(tract_id))\n",
    "        except:\n",
    "            continue\n",
    "    else:\n",
    "        try:\n",
    "            Path(r\"G:\\Final_Project\\unlabeled\\{}.png\".format(tract_id)).rename(r\"G:\\Final_Project\\test\\advanced\\{}.png\".format(tract_id))\n",
    "        except:\n",
    "            continue"
   ],
   "metadata": {
    "collapsed": false,
    "pycharm": {
     "name": "#%%\n"
    }
   }
  }
 ],
 "metadata": {
  "kernelspec": {
   "display_name": "Python 3",
   "language": "python",
   "name": "python3"
  },
  "language_info": {
   "codemirror_mode": {
    "name": "ipython",
    "version": 2
   },
   "file_extension": ".py",
   "mimetype": "text/x-python",
   "name": "python",
   "nbconvert_exporter": "python",
   "pygments_lexer": "ipython2",
   "version": "2.7.6"
  }
 },
 "nbformat": 4,
 "nbformat_minor": 0
}